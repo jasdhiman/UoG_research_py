{
 "cells": [
  {
   "cell_type": "code",
   "execution_count": 21,
   "metadata": {},
   "outputs": [],
   "source": [
    "### importing required resources\n",
    "import pandas as pd\n",
    "import numpy as np\n",
    "from sympy import S, symbols, printing\n",
    "from matplotlib import pyplot as plt\n",
    "import datetime\n",
    "import seaborn as sns"
   ]
  },
  {
   "cell_type": "code",
   "execution_count": 22,
   "metadata": {},
   "outputs": [],
   "source": [
    "### specifying file location\n",
    "file = 'C:/Users/jaska/Desktop/temp_londes.xlsx'"
   ]
  },
  {
   "cell_type": "code",
   "execution_count": 23,
   "metadata": {},
   "outputs": [],
   "source": [
    "### reading the file into dataframe\n",
    "londestemp = pd.read_excel(file)"
   ]
  },
  {
   "cell_type": "code",
   "execution_count": 24,
   "metadata": {},
   "outputs": [
    {
     "name": "stdout",
     "output_type": "stream",
     "text": [
      "<class 'pandas.core.frame.DataFrame'>\n",
      "RangeIndex: 245005 entries, 0 to 245004\n",
      "Data columns (total 2 columns):\n",
      " #   Column  Non-Null Count   Dtype         \n",
      "---  ------  --------------   -----         \n",
      " 0   date    245005 non-null  datetime64[ns]\n",
      " 1   Temp    207115 non-null  float64       \n",
      "dtypes: datetime64[ns](1), float64(1)\n",
      "memory usage: 3.7 MB\n"
     ]
    }
   ],
   "source": [
    "### getting info about dataframe size and type\n",
    "londestemp.info()"
   ]
  },
  {
   "cell_type": "code",
   "execution_count": 7,
   "metadata": {},
   "outputs": [
    {
     "name": "stdout",
     "output_type": "stream",
     "text": [
      "<class 'pandas.core.frame.DataFrame'>\n",
      "Int64Index: 207115 entries, 0 to 245004\n",
      "Data columns (total 2 columns):\n",
      " #   Column  Non-Null Count   Dtype         \n",
      "---  ------  --------------   -----         \n",
      " 0   date    207115 non-null  datetime64[ns]\n",
      " 1   Temp    207115 non-null  float64       \n",
      "dtypes: datetime64[ns](1), float64(1)\n",
      "memory usage: 4.7 MB\n"
     ]
    }
   ],
   "source": [
    "### dropping all rows with missing values and rewriting the dataframe\n",
    "londestemp.dropna(axis = 0, how = 'any', inplace=True) #axis=0 means rows are dropped, 1 means columns;\n",
    "# how=any means rows where any column value is na is dropped, all would mean drop only rows where all columns are na;\n",
    "# inplace=True means that the dataframe is rewritten\n",
    "londestemp.info()"
   ]
  },
  {
   "cell_type": "code",
   "execution_count": 25,
   "metadata": {},
   "outputs": [],
   "source": [
    "### matching solar radiation data (excluding soil temperature values - 2016 and onwards)\n",
    "londesnew = londestemp.loc[londestemp['date'].dt.year < 2016]"
   ]
  },
  {
   "cell_type": "code",
   "execution_count": 26,
   "metadata": {},
   "outputs": [
    {
     "name": "stdout",
     "output_type": "stream",
     "text": [
      "<class 'pandas.core.frame.DataFrame'>\n",
      "Int64Index: 148832 entries, 0 to 148831\n",
      "Data columns (total 2 columns):\n",
      " #   Column  Non-Null Count   Dtype         \n",
      "---  ------  --------------   -----         \n",
      " 0   date    148832 non-null  datetime64[ns]\n",
      " 1   Temp    125406 non-null  float64       \n",
      "dtypes: datetime64[ns](1), float64(1)\n",
      "memory usage: 3.4 MB\n"
     ]
    }
   ],
   "source": [
    "londesnew.info()"
   ]
  },
  {
   "cell_type": "code",
   "execution_count": 27,
   "metadata": {},
   "outputs": [
    {
     "data": {
      "text/html": [
       "<div>\n",
       "<style scoped>\n",
       "    .dataframe tbody tr th:only-of-type {\n",
       "        vertical-align: middle;\n",
       "    }\n",
       "\n",
       "    .dataframe tbody tr th {\n",
       "        vertical-align: top;\n",
       "    }\n",
       "\n",
       "    .dataframe thead th {\n",
       "        text-align: right;\n",
       "    }\n",
       "</style>\n",
       "<table border=\"1\" class=\"dataframe\">\n",
       "  <thead>\n",
       "    <tr style=\"text-align: right;\">\n",
       "      <th></th>\n",
       "      <th>date</th>\n",
       "      <th>Temp</th>\n",
       "    </tr>\n",
       "  </thead>\n",
       "  <tbody>\n",
       "    <tr>\n",
       "      <th>0</th>\n",
       "      <td>2011-10-03 16:00:00</td>\n",
       "      <td>11.783</td>\n",
       "    </tr>\n",
       "    <tr>\n",
       "      <th>1</th>\n",
       "      <td>2011-10-03 16:15:00</td>\n",
       "      <td>11.565</td>\n",
       "    </tr>\n",
       "    <tr>\n",
       "      <th>2</th>\n",
       "      <td>2011-10-03 16:30:00</td>\n",
       "      <td>11.662</td>\n",
       "    </tr>\n",
       "    <tr>\n",
       "      <th>3</th>\n",
       "      <td>2011-10-03 16:45:00</td>\n",
       "      <td>11.467</td>\n",
       "    </tr>\n",
       "    <tr>\n",
       "      <th>4</th>\n",
       "      <td>2011-10-03 17:00:00</td>\n",
       "      <td>12.050</td>\n",
       "    </tr>\n",
       "  </tbody>\n",
       "</table>\n",
       "</div>"
      ],
      "text/plain": [
       "                 date    Temp\n",
       "0 2011-10-03 16:00:00  11.783\n",
       "1 2011-10-03 16:15:00  11.565\n",
       "2 2011-10-03 16:30:00  11.662\n",
       "3 2011-10-03 16:45:00  11.467\n",
       "4 2011-10-03 17:00:00  12.050"
      ]
     },
     "execution_count": 27,
     "metadata": {},
     "output_type": "execute_result"
    }
   ],
   "source": [
    "londesnew.head()"
   ]
  },
  {
   "cell_type": "code",
   "execution_count": 28,
   "metadata": {},
   "outputs": [],
   "source": [
    "### finding daily averages\n",
    "\n",
    "### setting date as index in the new data set\n",
    "londesnew.set_index('date')\n",
    "\n",
    "### resampling data so that we have daily averages, max and min of the temperatures\n",
    "daily_mean = londesnew.resample('D', on='date').mean()\n",
    "daily_max = londesnew.resample('D', on='date').max()\n",
    "daily_min = londesnew.resample('D', on='date').min()"
   ]
  },
  {
   "cell_type": "code",
   "execution_count": 29,
   "metadata": {},
   "outputs": [
    {
     "name": "stdout",
     "output_type": "stream",
     "text": [
      "<class 'pandas.core.frame.DataFrame'>\n",
      "DatetimeIndex: 1551 entries, 2011-10-03 to 2015-12-31\n",
      "Freq: D\n",
      "Data columns (total 2 columns):\n",
      " #   Column  Non-Null Count  Dtype         \n",
      "---  ------  --------------  -----         \n",
      " 0   date    1551 non-null   datetime64[ns]\n",
      " 1   Temp    1312 non-null   float64       \n",
      "dtypes: datetime64[ns](1), float64(1)\n",
      "memory usage: 36.4 KB\n"
     ]
    }
   ],
   "source": [
    "daily_min.info()"
   ]
  },
  {
   "cell_type": "code",
   "execution_count": 30,
   "metadata": {},
   "outputs": [
    {
     "data": {
      "text/html": [
       "<div>\n",
       "<style scoped>\n",
       "    .dataframe tbody tr th:only-of-type {\n",
       "        vertical-align: middle;\n",
       "    }\n",
       "\n",
       "    .dataframe tbody tr th {\n",
       "        vertical-align: top;\n",
       "    }\n",
       "\n",
       "    .dataframe thead th {\n",
       "        text-align: right;\n",
       "    }\n",
       "</style>\n",
       "<table border=\"1\" class=\"dataframe\">\n",
       "  <thead>\n",
       "    <tr style=\"text-align: right;\">\n",
       "      <th></th>\n",
       "      <th>date</th>\n",
       "      <th>Temp</th>\n",
       "    </tr>\n",
       "    <tr>\n",
       "      <th>date</th>\n",
       "      <th></th>\n",
       "      <th></th>\n",
       "    </tr>\n",
       "  </thead>\n",
       "  <tbody>\n",
       "    <tr>\n",
       "      <th>2011-10-03</th>\n",
       "      <td>2011-10-03 16:00:00</td>\n",
       "      <td>9.534</td>\n",
       "    </tr>\n",
       "    <tr>\n",
       "      <th>2011-10-04</th>\n",
       "      <td>2011-10-04 00:00:00</td>\n",
       "      <td>6.687</td>\n",
       "    </tr>\n",
       "    <tr>\n",
       "      <th>2011-10-05</th>\n",
       "      <td>2011-10-05 00:00:00</td>\n",
       "      <td>5.668</td>\n",
       "    </tr>\n",
       "    <tr>\n",
       "      <th>2011-10-06</th>\n",
       "      <td>2011-10-06 00:00:00</td>\n",
       "      <td>6.712</td>\n",
       "    </tr>\n",
       "    <tr>\n",
       "      <th>2011-10-07</th>\n",
       "      <td>2011-10-07 00:00:00</td>\n",
       "      <td>7.795</td>\n",
       "    </tr>\n",
       "  </tbody>\n",
       "</table>\n",
       "</div>"
      ],
      "text/plain": [
       "                          date   Temp\n",
       "date                                 \n",
       "2011-10-03 2011-10-03 16:00:00  9.534\n",
       "2011-10-04 2011-10-04 00:00:00  6.687\n",
       "2011-10-05 2011-10-05 00:00:00  5.668\n",
       "2011-10-06 2011-10-06 00:00:00  6.712\n",
       "2011-10-07 2011-10-07 00:00:00  7.795"
      ]
     },
     "execution_count": 30,
     "metadata": {},
     "output_type": "execute_result"
    }
   ],
   "source": [
    "daily_mean.head()\n",
    "daily_max.head()\n",
    "daily_min.head()"
   ]
  },
  {
   "cell_type": "code",
   "execution_count": 31,
   "metadata": {},
   "outputs": [],
   "source": [
    "### renaming\n",
    "mean_r = daily_mean.rename(columns={'Temp' : 'mean'})"
   ]
  },
  {
   "cell_type": "code",
   "execution_count": 32,
   "metadata": {},
   "outputs": [],
   "source": [
    "max_r = daily_max.rename(columns={'Temp' : 'max'})\n",
    "min_r = daily_min.rename(columns={'Temp' : 'min'})"
   ]
  },
  {
   "cell_type": "code",
   "execution_count": 33,
   "metadata": {},
   "outputs": [],
   "source": [
    "min_r.drop(['date'], inplace = True, axis = 1)"
   ]
  },
  {
   "cell_type": "code",
   "execution_count": 34,
   "metadata": {},
   "outputs": [],
   "source": [
    "max_r.drop(['date'], inplace = True, axis = 1)"
   ]
  },
  {
   "cell_type": "code",
   "execution_count": 35,
   "metadata": {},
   "outputs": [],
   "source": [
    "combined = pd.concat([mean_r, max_r, min_r], axis=1)"
   ]
  },
  {
   "cell_type": "code",
   "execution_count": 36,
   "metadata": {},
   "outputs": [
    {
     "data": {
      "text/html": [
       "<div>\n",
       "<style scoped>\n",
       "    .dataframe tbody tr th:only-of-type {\n",
       "        vertical-align: middle;\n",
       "    }\n",
       "\n",
       "    .dataframe tbody tr th {\n",
       "        vertical-align: top;\n",
       "    }\n",
       "\n",
       "    .dataframe thead th {\n",
       "        text-align: right;\n",
       "    }\n",
       "</style>\n",
       "<table border=\"1\" class=\"dataframe\">\n",
       "  <thead>\n",
       "    <tr style=\"text-align: right;\">\n",
       "      <th></th>\n",
       "      <th>mean</th>\n",
       "      <th>max</th>\n",
       "      <th>min</th>\n",
       "    </tr>\n",
       "    <tr>\n",
       "      <th>date</th>\n",
       "      <th></th>\n",
       "      <th></th>\n",
       "      <th></th>\n",
       "    </tr>\n",
       "  </thead>\n",
       "  <tbody>\n",
       "    <tr>\n",
       "      <th>2011-10-03</th>\n",
       "      <td>11.068875</td>\n",
       "      <td>12.195</td>\n",
       "      <td>9.534</td>\n",
       "    </tr>\n",
       "    <tr>\n",
       "      <th>2011-10-04</th>\n",
       "      <td>12.507812</td>\n",
       "      <td>19.389</td>\n",
       "      <td>6.687</td>\n",
       "    </tr>\n",
       "    <tr>\n",
       "      <th>2011-10-05</th>\n",
       "      <td>13.469906</td>\n",
       "      <td>21.963</td>\n",
       "      <td>5.668</td>\n",
       "    </tr>\n",
       "    <tr>\n",
       "      <th>2011-10-06</th>\n",
       "      <td>13.698354</td>\n",
       "      <td>21.413</td>\n",
       "      <td>6.712</td>\n",
       "    </tr>\n",
       "    <tr>\n",
       "      <th>2011-10-07</th>\n",
       "      <td>16.033823</td>\n",
       "      <td>24.339</td>\n",
       "      <td>7.795</td>\n",
       "    </tr>\n",
       "  </tbody>\n",
       "</table>\n",
       "</div>"
      ],
      "text/plain": [
       "                 mean     max    min\n",
       "date                                \n",
       "2011-10-03  11.068875  12.195  9.534\n",
       "2011-10-04  12.507812  19.389  6.687\n",
       "2011-10-05  13.469906  21.963  5.668\n",
       "2011-10-06  13.698354  21.413  6.712\n",
       "2011-10-07  16.033823  24.339  7.795"
      ]
     },
     "execution_count": 36,
     "metadata": {},
     "output_type": "execute_result"
    }
   ],
   "source": [
    "combined.head()"
   ]
  },
  {
   "cell_type": "code",
   "execution_count": 37,
   "metadata": {},
   "outputs": [],
   "source": [
    "combined.to_excel(r'C:/Users/jaska/Desktop/daily_temps2.xlsx')"
   ]
  },
  {
   "cell_type": "code",
   "execution_count": null,
   "metadata": {},
   "outputs": [],
   "source": []
  }
 ],
 "metadata": {
  "kernelspec": {
   "display_name": "Python 3",
   "language": "python",
   "name": "python3"
  },
  "language_info": {
   "codemirror_mode": {
    "name": "ipython",
    "version": 3
   },
   "file_extension": ".py",
   "mimetype": "text/x-python",
   "name": "python",
   "nbconvert_exporter": "python",
   "pygments_lexer": "ipython3",
   "version": "3.8.5"
  }
 },
 "nbformat": 4,
 "nbformat_minor": 4
}
