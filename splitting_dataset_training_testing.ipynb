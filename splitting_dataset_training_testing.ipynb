{
 "cells": [
  {
   "cell_type": "code",
   "execution_count": 11,
   "metadata": {},
   "outputs": [],
   "source": [
    "# importing required resources\n",
    "import pandas as pd\n",
    "import numpy as np\n",
    "from sklearn.model_selection import train_test_split"
   ]
  },
  {
   "cell_type": "code",
   "execution_count": 12,
   "metadata": {},
   "outputs": [
    {
     "name": "stdout",
     "output_type": "stream",
     "text": [
      "<class 'pandas.core.frame.DataFrame'>\n",
      "RangeIndex: 4949 entries, 0 to 4948\n",
      "Data columns (total 4 columns):\n",
      " #   Column  Non-Null Count  Dtype  \n",
      "---  ------  --------------  -----  \n",
      " 0   air     4949 non-null   float64\n",
      " 1   surf    4949 non-null   float64\n",
      " 2   slr     4949 non-null   float64\n",
      " 3   day     4949 non-null   int64  \n",
      "dtypes: float64(3), int64(1)\n",
      "memory usage: 154.8 KB\n"
     ]
    }
   ],
   "source": [
    "### specifying file location\n",
    "file = '//north.cfs.uoguelph.ca/soe-other-home$/dhimanj/Desktop/swat_surf_temp_mod/for_analysis.xlsx'\n",
    "### reading the file into dataframe\n",
    "df = pd.read_excel(file)\n",
    "### getting info about dataframe size and type\n",
    "df.info()"
   ]
  },
  {
   "cell_type": "code",
   "execution_count": 13,
   "metadata": {},
   "outputs": [],
   "source": [
    "# splitting the data\n",
    "df_train, df_test = train_test_split(df, test_size=0.25, random_state=42)"
   ]
  },
  {
   "cell_type": "code",
   "execution_count": 14,
   "metadata": {},
   "outputs": [
    {
     "data": {
      "text/plain": [
       "(3711, 4)"
      ]
     },
     "execution_count": 14,
     "metadata": {},
     "output_type": "execute_result"
    }
   ],
   "source": [
    "# checking sizes\n",
    "df_train.shape"
   ]
  },
  {
   "cell_type": "code",
   "execution_count": 15,
   "metadata": {},
   "outputs": [
    {
     "data": {
      "text/plain": [
       "(1238, 4)"
      ]
     },
     "execution_count": 15,
     "metadata": {},
     "output_type": "execute_result"
    }
   ],
   "source": [
    "# checking sizes\n",
    "df_test.shape"
   ]
  },
  {
   "cell_type": "code",
   "execution_count": 17,
   "metadata": {},
   "outputs": [],
   "source": [
    "# writing to excel\n",
    "df_train.to_excel(r'//north.cfs.uoguelph.ca/soe-other-home$/dhimanj/Desktop/swat_surf_temp_mod/training.xlsx')\n",
    "df_test.to_excel(r'//north.cfs.uoguelph.ca/soe-other-home$/dhimanj/Desktop/swat_surf_temp_mod/testing.xlsx')\n"
   ]
  }
 ],
 "metadata": {
  "kernelspec": {
   "display_name": "Python 3",
   "language": "python",
   "name": "python3"
  },
  "language_info": {
   "codemirror_mode": {
    "name": "ipython",
    "version": 3
   },
   "file_extension": ".py",
   "mimetype": "text/x-python",
   "name": "python",
   "nbconvert_exporter": "python",
   "pygments_lexer": "ipython3",
   "version": "3.8.5"
  }
 },
 "nbformat": 4,
 "nbformat_minor": 4
}
