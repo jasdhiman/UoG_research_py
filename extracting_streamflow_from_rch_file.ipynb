{
 "cells": [
  {
   "cell_type": "code",
   "execution_count": 1,
   "metadata": {},
   "outputs": [],
   "source": [
    "#importing resources\n",
    "import pandas as pd\n",
    "import numpy as np"
   ]
  },
  {
   "cell_type": "code",
   "execution_count": 15,
   "metadata": {},
   "outputs": [],
   "source": [
    "# specifying file location\n",
    "file = '//north.cfs.uoguelph.ca/soe-other-home$/dhimanj/Desktop/gully_reach_files/TSWAT/rch.xlsx'"
   ]
  },
  {
   "cell_type": "code",
   "execution_count": 17,
   "metadata": {},
   "outputs": [],
   "source": [
    "# reading the file\n",
    "rch = pd.read_excel(file, header=0)"
   ]
  },
  {
   "cell_type": "code",
   "execution_count": 18,
   "metadata": {},
   "outputs": [
    {
     "data": {
      "text/html": [
       "<div>\n",
       "<style scoped>\n",
       "    .dataframe tbody tr th:only-of-type {\n",
       "        vertical-align: middle;\n",
       "    }\n",
       "\n",
       "    .dataframe tbody tr th {\n",
       "        vertical-align: top;\n",
       "    }\n",
       "\n",
       "    .dataframe thead th {\n",
       "        text-align: right;\n",
       "    }\n",
       "</style>\n",
       "<table border=\"1\" class=\"dataframe\">\n",
       "  <thead>\n",
       "    <tr style=\"text-align: right;\">\n",
       "      <th></th>\n",
       "      <th>RCH</th>\n",
       "      <th>GIS</th>\n",
       "      <th>MON</th>\n",
       "      <th>AREAkm2</th>\n",
       "      <th>FLOW_INcms</th>\n",
       "      <th>FLOW_OUTcms</th>\n",
       "    </tr>\n",
       "  </thead>\n",
       "  <tbody>\n",
       "    <tr>\n",
       "      <th>0</th>\n",
       "      <td>1</td>\n",
       "      <td>0</td>\n",
       "      <td>1</td>\n",
       "      <td>0.08760</td>\n",
       "      <td>0.000271</td>\n",
       "      <td>0.000316</td>\n",
       "    </tr>\n",
       "    <tr>\n",
       "      <th>1</th>\n",
       "      <td>2</td>\n",
       "      <td>0</td>\n",
       "      <td>1</td>\n",
       "      <td>0.18930</td>\n",
       "      <td>0.000556</td>\n",
       "      <td>0.000710</td>\n",
       "    </tr>\n",
       "    <tr>\n",
       "      <th>2</th>\n",
       "      <td>3</td>\n",
       "      <td>0</td>\n",
       "      <td>1</td>\n",
       "      <td>0.07208</td>\n",
       "      <td>0.000236</td>\n",
       "      <td>0.000237</td>\n",
       "    </tr>\n",
       "    <tr>\n",
       "      <th>3</th>\n",
       "      <td>4</td>\n",
       "      <td>0</td>\n",
       "      <td>1</td>\n",
       "      <td>0.19130</td>\n",
       "      <td>0.000559</td>\n",
       "      <td>0.000617</td>\n",
       "    </tr>\n",
       "    <tr>\n",
       "      <th>4</th>\n",
       "      <td>5</td>\n",
       "      <td>0</td>\n",
       "      <td>1</td>\n",
       "      <td>0.69100</td>\n",
       "      <td>0.002430</td>\n",
       "      <td>0.002577</td>\n",
       "    </tr>\n",
       "    <tr>\n",
       "      <th>5</th>\n",
       "      <td>6</td>\n",
       "      <td>0</td>\n",
       "      <td>1</td>\n",
       "      <td>0.37010</td>\n",
       "      <td>0.001506</td>\n",
       "      <td>0.001509</td>\n",
       "    </tr>\n",
       "    <tr>\n",
       "      <th>6</th>\n",
       "      <td>7</td>\n",
       "      <td>0</td>\n",
       "      <td>1</td>\n",
       "      <td>0.88080</td>\n",
       "      <td>0.003212</td>\n",
       "      <td>0.003298</td>\n",
       "    </tr>\n",
       "    <tr>\n",
       "      <th>7</th>\n",
       "      <td>8</td>\n",
       "      <td>0</td>\n",
       "      <td>1</td>\n",
       "      <td>1.25100</td>\n",
       "      <td>0.005181</td>\n",
       "      <td>0.005248</td>\n",
       "    </tr>\n",
       "    <tr>\n",
       "      <th>8</th>\n",
       "      <td>9</td>\n",
       "      <td>0</td>\n",
       "      <td>1</td>\n",
       "      <td>0.23860</td>\n",
       "      <td>0.001163</td>\n",
       "      <td>0.001186</td>\n",
       "    </tr>\n",
       "    <tr>\n",
       "      <th>9</th>\n",
       "      <td>10</td>\n",
       "      <td>0</td>\n",
       "      <td>1</td>\n",
       "      <td>0.16200</td>\n",
       "      <td>0.001102</td>\n",
       "      <td>0.001102</td>\n",
       "    </tr>\n",
       "  </tbody>\n",
       "</table>\n",
       "</div>"
      ],
      "text/plain": [
       "   RCH  GIS  MON  AREAkm2  FLOW_INcms  FLOW_OUTcms\n",
       "0    1    0    1  0.08760    0.000271     0.000316\n",
       "1    2    0    1  0.18930    0.000556     0.000710\n",
       "2    3    0    1  0.07208    0.000236     0.000237\n",
       "3    4    0    1  0.19130    0.000559     0.000617\n",
       "4    5    0    1  0.69100    0.002430     0.002577\n",
       "5    6    0    1  0.37010    0.001506     0.001509\n",
       "6    7    0    1  0.88080    0.003212     0.003298\n",
       "7    8    0    1  1.25100    0.005181     0.005248\n",
       "8    9    0    1  0.23860    0.001163     0.001186\n",
       "9   10    0    1  0.16200    0.001102     0.001102"
      ]
     },
     "execution_count": 18,
     "metadata": {},
     "output_type": "execute_result"
    }
   ],
   "source": [
    "# checking\n",
    "rch.head(10)"
   ]
  },
  {
   "cell_type": "code",
   "execution_count": 19,
   "metadata": {},
   "outputs": [],
   "source": [
    "# extracting data for particular reaches (52, 54, 18, 80)\n",
    "g2 = rch.loc[rch['RCH']==52]\n",
    "g5 = rch.loc[rch['RCH']==54]\n",
    "g7 = rch.loc[rch['RCH']==18]\n",
    "g8 = rch.loc[rch['RCH']==80]"
   ]
  },
  {
   "cell_type": "code",
   "execution_count": 20,
   "metadata": {},
   "outputs": [],
   "source": [
    "# exporting \n",
    "g2.to_excel (r'//north.cfs.uoguelph.ca/soe-other-home$/dhimanj/Desktop/gully_reach_files/TSWAT/g2.xlsx', index = True, header=True)\n",
    "g5.to_excel (r'//north.cfs.uoguelph.ca/soe-other-home$/dhimanj/Desktop/gully_reach_files/TSWAT/g5.xlsx', index = True, header=True)\n",
    "g7.to_excel (r'//north.cfs.uoguelph.ca/soe-other-home$/dhimanj/Desktop/gully_reach_files/TSWAT/g7.xlsx', index = True, header=True)\n",
    "g8.to_excel (r'//north.cfs.uoguelph.ca/soe-other-home$/dhimanj/Desktop/gully_reach_files/TSWAT/g8.xlsx', index = True, header=True)"
   ]
  },
  {
   "cell_type": "code",
   "execution_count": null,
   "metadata": {},
   "outputs": [],
   "source": []
  }
 ],
 "metadata": {
  "kernelspec": {
   "display_name": "Python 3",
   "language": "python",
   "name": "python3"
  },
  "language_info": {
   "codemirror_mode": {
    "name": "ipython",
    "version": 3
   },
   "file_extension": ".py",
   "mimetype": "text/x-python",
   "name": "python",
   "nbconvert_exporter": "python",
   "pygments_lexer": "ipython3",
   "version": "3.8.5"
  }
 },
 "nbformat": 4,
 "nbformat_minor": 4
}
