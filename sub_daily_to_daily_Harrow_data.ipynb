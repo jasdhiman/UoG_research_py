{
 "cells": [
  {
   "cell_type": "code",
   "execution_count": 1,
   "metadata": {},
   "outputs": [],
   "source": [
    "### importing required resources\n",
    "import pandas as pd\n",
    "import numpy as np\n",
    "from sympy import S, symbols, printing\n",
    "from matplotlib import pyplot as plt\n",
    "import datetime\n",
    "import seaborn as sns"
   ]
  },
  {
   "cell_type": "code",
   "execution_count": 4,
   "metadata": {},
   "outputs": [],
   "source": [
    "### specifying file location\n",
    "file = '//north.cfs.uoguelph.ca/soe-other-home$/dhimanj/Desktop/swat_surf_temp_mod/raw.xlsx'"
   ]
  },
  {
   "cell_type": "code",
   "execution_count": 40,
   "metadata": {},
   "outputs": [],
   "source": [
    "### reading the file into dataframe\n",
    "df = pd.read_excel(file)"
   ]
  },
  {
   "cell_type": "code",
   "execution_count": 41,
   "metadata": {},
   "outputs": [
    {
     "name": "stdout",
     "output_type": "stream",
     "text": [
      "<class 'pandas.core.frame.DataFrame'>\n",
      "RangeIndex: 118758 entries, 0 to 118757\n",
      "Data columns (total 8 columns):\n",
      " #   Column             Non-Null Count   Dtype  \n",
      "---  ------             --------------   -----  \n",
      " 0   Location           118758 non-null  object \n",
      " 1   Date_Time          118758 non-null  object \n",
      " 2   AirTemp            118758 non-null  float64\n",
      " 3   SoilTempSod_5cm    118758 non-null  float64\n",
      " 4   SoilTempSod_10cm   118758 non-null  float64\n",
      " 5   SoilTempSod_20cm   118758 non-null  float64\n",
      " 6   TotSolarRadiation  118758 non-null  float64\n",
      " 7   GrassTemp          118758 non-null  float64\n",
      "dtypes: float64(6), object(2)\n",
      "memory usage: 7.2+ MB\n"
     ]
    }
   ],
   "source": [
    "### getting info about dataframe size and type\n",
    "df.info()"
   ]
  },
  {
   "cell_type": "code",
   "execution_count": 42,
   "metadata": {},
   "outputs": [],
   "source": [
    "# dropping location column\n",
    "df.drop(columns=['Location'], inplace=True)"
   ]
  },
  {
   "cell_type": "code",
   "execution_count": 43,
   "metadata": {},
   "outputs": [
    {
     "name": "stdout",
     "output_type": "stream",
     "text": [
      "<class 'pandas.core.frame.DataFrame'>\n",
      "RangeIndex: 118758 entries, 0 to 118757\n",
      "Data columns (total 7 columns):\n",
      " #   Column             Non-Null Count   Dtype  \n",
      "---  ------             --------------   -----  \n",
      " 0   Date_Time          118758 non-null  object \n",
      " 1   AirTemp            118758 non-null  float64\n",
      " 2   SoilTempSod_5cm    118758 non-null  float64\n",
      " 3   SoilTempSod_10cm   118758 non-null  float64\n",
      " 4   SoilTempSod_20cm   118758 non-null  float64\n",
      " 5   TotSolarRadiation  118758 non-null  float64\n",
      " 6   GrassTemp          118758 non-null  float64\n",
      "dtypes: float64(6), object(1)\n",
      "memory usage: 6.3+ MB\n"
     ]
    }
   ],
   "source": [
    "# checking again\n",
    "df.info()"
   ]
  },
  {
   "cell_type": "code",
   "execution_count": 44,
   "metadata": {},
   "outputs": [],
   "source": [
    "# setting datetime\n",
    "df['date'] = pd.to_datetime(df['Date_Time'])"
   ]
  },
  {
   "cell_type": "code",
   "execution_count": 45,
   "metadata": {},
   "outputs": [],
   "source": [
    "# removing old date column\n",
    "df.drop(columns=['Date_Time'], inplace=True)"
   ]
  },
  {
   "cell_type": "code",
   "execution_count": 46,
   "metadata": {},
   "outputs": [],
   "source": [
    "# dividing dataframes to two parts\n",
    "# selecting df1 with al columns but one\n",
    "df1 = df.loc[:, df.columns != 'TotSolarRadiation']"
   ]
  },
  {
   "cell_type": "code",
   "execution_count": 47,
   "metadata": {},
   "outputs": [],
   "source": [
    "# selecting df2 for solar radiation\n",
    "df2 = df[['date', 'TotSolarRadiation']]"
   ]
  },
  {
   "cell_type": "code",
   "execution_count": 48,
   "metadata": {},
   "outputs": [],
   "source": [
    "# finding daily averages for temperatures\n",
    "### setting date as index in the data set\n",
    "df1.set_index('date')\n",
    "df2.set_index('date')\n",
    "\n",
    "### resampling data so that we have daily averaged values\n",
    "df1_daily = df1.resample('D', on='date').mean()\n",
    "### resampling data so that we have daily added values\n",
    "df2_daily = df2.resample('D', on='date').sum()"
   ]
  },
  {
   "cell_type": "code",
   "execution_count": 49,
   "metadata": {},
   "outputs": [
    {
     "name": "stdout",
     "output_type": "stream",
     "text": [
      "<class 'pandas.core.frame.DataFrame'>\n",
      "DatetimeIndex: 4949 entries, 2008-01-01 to 2021-07-19\n",
      "Freq: D\n",
      "Data columns (total 5 columns):\n",
      " #   Column            Non-Null Count  Dtype  \n",
      "---  ------            --------------  -----  \n",
      " 0   AirTemp           4949 non-null   float64\n",
      " 1   SoilTempSod_5cm   4949 non-null   float64\n",
      " 2   SoilTempSod_10cm  4949 non-null   float64\n",
      " 3   SoilTempSod_20cm  4949 non-null   float64\n",
      " 4   GrassTemp         4949 non-null   float64\n",
      "dtypes: float64(5)\n",
      "memory usage: 232.0 KB\n"
     ]
    }
   ],
   "source": [
    "# checking\n",
    "df1_daily.info()"
   ]
  },
  {
   "cell_type": "code",
   "execution_count": 50,
   "metadata": {},
   "outputs": [
    {
     "name": "stdout",
     "output_type": "stream",
     "text": [
      "<class 'pandas.core.frame.DataFrame'>\n",
      "DatetimeIndex: 4949 entries, 2008-01-01 to 2021-07-19\n",
      "Freq: D\n",
      "Data columns (total 1 columns):\n",
      " #   Column             Non-Null Count  Dtype  \n",
      "---  ------             --------------  -----  \n",
      " 0   TotSolarRadiation  4949 non-null   float64\n",
      "dtypes: float64(1)\n",
      "memory usage: 77.3 KB\n"
     ]
    }
   ],
   "source": [
    "df2_daily.info()"
   ]
  },
  {
   "cell_type": "code",
   "execution_count": 51,
   "metadata": {},
   "outputs": [],
   "source": [
    "# resetting indeces\n",
    "df1_daily.reset_index(inplace=True)\n",
    "df2_daily.reset_index(inplace=True)"
   ]
  },
  {
   "cell_type": "code",
   "execution_count": 54,
   "metadata": {},
   "outputs": [
    {
     "name": "stdout",
     "output_type": "stream",
     "text": [
      "<class 'pandas.core.frame.DataFrame'>\n",
      "Int64Index: 4949 entries, 0 to 4948\n",
      "Data columns (total 7 columns):\n",
      " #   Column             Non-Null Count  Dtype         \n",
      "---  ------             --------------  -----         \n",
      " 0   date               4949 non-null   datetime64[ns]\n",
      " 1   AirTemp            4949 non-null   float64       \n",
      " 2   SoilTempSod_5cm    4949 non-null   float64       \n",
      " 3   SoilTempSod_10cm   4949 non-null   float64       \n",
      " 4   SoilTempSod_20cm   4949 non-null   float64       \n",
      " 5   GrassTemp          4949 non-null   float64       \n",
      " 6   TotSolarRadiation  4949 non-null   float64       \n",
      "dtypes: datetime64[ns](1), float64(6)\n",
      "memory usage: 309.3 KB\n"
     ]
    }
   ],
   "source": [
    "# merging on date\n",
    "df3 = pd.merge(df1_daily, df2_daily, on='date')\n",
    "df3.info()"
   ]
  },
  {
   "cell_type": "code",
   "execution_count": 55,
   "metadata": {
    "scrolled": true
   },
   "outputs": [
    {
     "data": {
      "text/html": [
       "<div>\n",
       "<style scoped>\n",
       "    .dataframe tbody tr th:only-of-type {\n",
       "        vertical-align: middle;\n",
       "    }\n",
       "\n",
       "    .dataframe tbody tr th {\n",
       "        vertical-align: top;\n",
       "    }\n",
       "\n",
       "    .dataframe thead th {\n",
       "        text-align: right;\n",
       "    }\n",
       "</style>\n",
       "<table border=\"1\" class=\"dataframe\">\n",
       "  <thead>\n",
       "    <tr style=\"text-align: right;\">\n",
       "      <th></th>\n",
       "      <th>date</th>\n",
       "      <th>AirTemp</th>\n",
       "      <th>SoilTempSod_5cm</th>\n",
       "      <th>SoilTempSod_10cm</th>\n",
       "      <th>SoilTempSod_20cm</th>\n",
       "      <th>GrassTemp</th>\n",
       "      <th>TotSolarRadiation</th>\n",
       "    </tr>\n",
       "  </thead>\n",
       "  <tbody>\n",
       "    <tr>\n",
       "      <th>0</th>\n",
       "      <td>2008-01-01</td>\n",
       "      <td>0.010542</td>\n",
       "      <td>-1.241667</td>\n",
       "      <td>1.250625</td>\n",
       "      <td>1.198917</td>\n",
       "      <td>-0.237667</td>\n",
       "      <td>3141.129</td>\n",
       "    </tr>\n",
       "    <tr>\n",
       "      <th>1</th>\n",
       "      <td>2008-01-02</td>\n",
       "      <td>-5.020000</td>\n",
       "      <td>-1.235458</td>\n",
       "      <td>0.915500</td>\n",
       "      <td>1.183458</td>\n",
       "      <td>-0.847958</td>\n",
       "      <td>7858.830</td>\n",
       "    </tr>\n",
       "    <tr>\n",
       "      <th>2</th>\n",
       "      <td>2008-01-03</td>\n",
       "      <td>-8.861792</td>\n",
       "      <td>-1.430708</td>\n",
       "      <td>0.585750</td>\n",
       "      <td>1.111542</td>\n",
       "      <td>-3.421583</td>\n",
       "      <td>4800.850</td>\n",
       "    </tr>\n",
       "    <tr>\n",
       "      <th>3</th>\n",
       "      <td>2008-01-04</td>\n",
       "      <td>-3.271875</td>\n",
       "      <td>-1.701375</td>\n",
       "      <td>0.352083</td>\n",
       "      <td>0.907333</td>\n",
       "      <td>-2.440958</td>\n",
       "      <td>5230.598</td>\n",
       "    </tr>\n",
       "    <tr>\n",
       "      <th>4</th>\n",
       "      <td>2008-01-05</td>\n",
       "      <td>1.822292</td>\n",
       "      <td>-1.724875</td>\n",
       "      <td>0.304542</td>\n",
       "      <td>0.812250</td>\n",
       "      <td>-0.561875</td>\n",
       "      <td>1730.801</td>\n",
       "    </tr>\n",
       "  </tbody>\n",
       "</table>\n",
       "</div>"
      ],
      "text/plain": [
       "        date   AirTemp  SoilTempSod_5cm  SoilTempSod_10cm  SoilTempSod_20cm  \\\n",
       "0 2008-01-01  0.010542        -1.241667          1.250625          1.198917   \n",
       "1 2008-01-02 -5.020000        -1.235458          0.915500          1.183458   \n",
       "2 2008-01-03 -8.861792        -1.430708          0.585750          1.111542   \n",
       "3 2008-01-04 -3.271875        -1.701375          0.352083          0.907333   \n",
       "4 2008-01-05  1.822292        -1.724875          0.304542          0.812250   \n",
       "\n",
       "   GrassTemp  TotSolarRadiation  \n",
       "0  -0.237667           3141.129  \n",
       "1  -0.847958           7858.830  \n",
       "2  -3.421583           4800.850  \n",
       "3  -2.440958           5230.598  \n",
       "4  -0.561875           1730.801  "
      ]
     },
     "execution_count": 55,
     "metadata": {},
     "output_type": "execute_result"
    }
   ],
   "source": [
    "df3.head()"
   ]
  },
  {
   "cell_type": "code",
   "execution_count": 56,
   "metadata": {},
   "outputs": [],
   "source": [
    "# writing to excel\n",
    "df3.to_excel(r'//north.cfs.uoguelph.ca/soe-other-home$/dhimanj/Desktop/swat_surf_temp_mod/daily.xlsx')"
   ]
  },
  {
   "cell_type": "code",
   "execution_count": null,
   "metadata": {},
   "outputs": [],
   "source": []
  },
  {
   "cell_type": "code",
   "execution_count": null,
   "metadata": {},
   "outputs": [],
   "source": []
  }
 ],
 "metadata": {
  "kernelspec": {
   "display_name": "Python 3",
   "language": "python",
   "name": "python3"
  },
  "language_info": {
   "codemirror_mode": {
    "name": "ipython",
    "version": 3
   },
   "file_extension": ".py",
   "mimetype": "text/x-python",
   "name": "python",
   "nbconvert_exporter": "python",
   "pygments_lexer": "ipython3",
   "version": "3.8.5"
  }
 },
 "nbformat": 4,
 "nbformat_minor": 4
}
