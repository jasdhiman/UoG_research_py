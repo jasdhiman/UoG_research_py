{
 "cells": [
  {
   "cell_type": "code",
   "execution_count": 1,
   "metadata": {},
   "outputs": [],
   "source": [
    "# Reading clean data from output.std file, finding monthly and annual data and making graphs\n",
    "# also extracting winter daily and monthly average data - for winter months"
   ]
  },
  {
   "cell_type": "code",
   "execution_count": 1,
   "metadata": {},
   "outputs": [],
   "source": [
    "### importing required resources\n",
    "import pandas as pd\n",
    "import numpy as np\n",
    "from sympy import S, symbols, printing\n",
    "from matplotlib import pyplot as plt\n",
    "import datetime\n",
    "import seaborn as sns"
   ]
  },
  {
   "cell_type": "code",
   "execution_count": 208,
   "metadata": {},
   "outputs": [],
   "source": [
    "### specifying file location\n",
    "file = 'C:/Users/jaska/Desktop/SWAT_lag_factor_calibration/clean_data/04.xlsx'"
   ]
  },
  {
   "cell_type": "code",
   "execution_count": 209,
   "metadata": {},
   "outputs": [],
   "source": [
    "### reading the file into dataframe\n",
    "output_std = pd.read_excel(file)"
   ]
  },
  {
   "cell_type": "code",
   "execution_count": 187,
   "metadata": {},
   "outputs": [
    {
     "name": "stdout",
     "output_type": "stream",
     "text": [
      "<class 'pandas.core.frame.DataFrame'>\n",
      "RangeIndex: 3287 entries, 0 to 3286\n",
      "Data columns (total 21 columns):\n",
      " #   Column           Non-Null Count  Dtype         \n",
      "---  ------           --------------  -----         \n",
      " 0   time             3287 non-null   int64         \n",
      " 1   prec_mm          3287 non-null   float64       \n",
      " 2   surq_mm          3287 non-null   float64       \n",
      " 3   latq_mm          3287 non-null   int64         \n",
      " 4   gwq_mm           3287 non-null   float64       \n",
      " 5   perco_mm         3287 non-null   float64       \n",
      " 6   tileq_mm         3287 non-null   float64       \n",
      " 7   sw_mm            3287 non-null   float64       \n",
      " 8   et_mm            3287 non-null   float64       \n",
      " 9   pet_mm           3287 non-null   float64       \n",
      " 10  wateryield_mm    3287 non-null   float64       \n",
      " 11  sedyield_mtpha   3287 non-null   float64       \n",
      " 12  no3surq_kgnpha   3287 non-null   float64       \n",
      " 13  no3latq_kgnpha   3287 non-null   int64         \n",
      " 14  no3perc_kgnpha   3287 non-null   float64       \n",
      " 15  no3crop_kgnpha   3287 non-null   float64       \n",
      " 16  norgload_kgnpha  3287 non-null   float64       \n",
      " 17  psolload_kgppha  3287 non-null   float64       \n",
      " 18  porgload_kgppha  3287 non-null   float64       \n",
      " 19  no3tile_kgnpha   3287 non-null   float64       \n",
      " 20  date             3287 non-null   datetime64[ns]\n",
      "dtypes: datetime64[ns](1), float64(17), int64(3)\n",
      "memory usage: 539.4 KB\n"
     ]
    }
   ],
   "source": [
    "### getting info about dataframe size and type\n",
    "output_std.info()"
   ]
  },
  {
   "cell_type": "code",
   "execution_count": 97,
   "metadata": {},
   "outputs": [
    {
     "data": {
      "text/plain": [
       "(3287, 21)"
      ]
     },
     "execution_count": 97,
     "metadata": {},
     "output_type": "execute_result"
    }
   ],
   "source": [
    "# looking at the shape of the df\n",
    "output_std.shape"
   ]
  },
  {
   "cell_type": "code",
   "execution_count": 8,
   "metadata": {},
   "outputs": [],
   "source": [
    "# dropping the unwanted columns\n",
    "# output_std.drop(columns=['time'], inplace=True, axis=1)"
   ]
  },
  {
   "cell_type": "code",
   "execution_count": 210,
   "metadata": {},
   "outputs": [],
   "source": [
    "# dropping all rows with missing values\n",
    "output_std.dropna(how='any', inplace=True, axis=0)"
   ]
  },
  {
   "cell_type": "code",
   "execution_count": 211,
   "metadata": {},
   "outputs": [
    {
     "data": {
      "text/html": [
       "<div>\n",
       "<style scoped>\n",
       "    .dataframe tbody tr th:only-of-type {\n",
       "        vertical-align: middle;\n",
       "    }\n",
       "\n",
       "    .dataframe tbody tr th {\n",
       "        vertical-align: top;\n",
       "    }\n",
       "\n",
       "    .dataframe thead th {\n",
       "        text-align: right;\n",
       "    }\n",
       "</style>\n",
       "<table border=\"1\" class=\"dataframe\">\n",
       "  <thead>\n",
       "    <tr style=\"text-align: right;\">\n",
       "      <th></th>\n",
       "      <th>time</th>\n",
       "      <th>prec_mm</th>\n",
       "      <th>surq_mm</th>\n",
       "      <th>latq_mm</th>\n",
       "      <th>gwq_mm</th>\n",
       "      <th>perco_mm</th>\n",
       "      <th>tileq_mm</th>\n",
       "      <th>sw_mm</th>\n",
       "      <th>et_mm</th>\n",
       "      <th>pet_mm</th>\n",
       "      <th>wateryield_mm</th>\n",
       "      <th>sedyield_mtpha</th>\n",
       "      <th>no3surq_kgnpha</th>\n",
       "      <th>no3latq_kgnpha</th>\n",
       "      <th>no3perc_kgnpha</th>\n",
       "      <th>no3crop_kgnpha</th>\n",
       "      <th>norgload_kgnpha</th>\n",
       "      <th>psolload_kgppha</th>\n",
       "      <th>porgload_kgppha</th>\n",
       "      <th>no3tile_kgnpha</th>\n",
       "    </tr>\n",
       "    <tr>\n",
       "      <th>date</th>\n",
       "      <th></th>\n",
       "      <th></th>\n",
       "      <th></th>\n",
       "      <th></th>\n",
       "      <th></th>\n",
       "      <th></th>\n",
       "      <th></th>\n",
       "      <th></th>\n",
       "      <th></th>\n",
       "      <th></th>\n",
       "      <th></th>\n",
       "      <th></th>\n",
       "      <th></th>\n",
       "      <th></th>\n",
       "      <th></th>\n",
       "      <th></th>\n",
       "      <th></th>\n",
       "      <th></th>\n",
       "      <th></th>\n",
       "      <th></th>\n",
       "    </tr>\n",
       "  </thead>\n",
       "  <tbody>\n",
       "    <tr>\n",
       "      <th>2010-01-31</th>\n",
       "      <td>496</td>\n",
       "      <td>45.2</td>\n",
       "      <td>26.39</td>\n",
       "      <td>0</td>\n",
       "      <td>18.54</td>\n",
       "      <td>0.06</td>\n",
       "      <td>0.00</td>\n",
       "      <td>5138.95</td>\n",
       "      <td>1.14</td>\n",
       "      <td>2.25</td>\n",
       "      <td>46.01</td>\n",
       "      <td>0.08</td>\n",
       "      <td>0.02</td>\n",
       "      <td>0</td>\n",
       "      <td>0.00</td>\n",
       "      <td>0.0</td>\n",
       "      <td>0.70</td>\n",
       "      <td>0.01</td>\n",
       "      <td>0.09</td>\n",
       "      <td>0.00</td>\n",
       "    </tr>\n",
       "    <tr>\n",
       "      <th>2010-02-28</th>\n",
       "      <td>1274</td>\n",
       "      <td>30.2</td>\n",
       "      <td>0.24</td>\n",
       "      <td>0</td>\n",
       "      <td>8.20</td>\n",
       "      <td>0.01</td>\n",
       "      <td>0.00</td>\n",
       "      <td>4755.77</td>\n",
       "      <td>1.46</td>\n",
       "      <td>2.94</td>\n",
       "      <td>9.20</td>\n",
       "      <td>0.00</td>\n",
       "      <td>0.00</td>\n",
       "      <td>0</td>\n",
       "      <td>0.00</td>\n",
       "      <td>0.0</td>\n",
       "      <td>0.00</td>\n",
       "      <td>0.00</td>\n",
       "      <td>0.00</td>\n",
       "      <td>0.00</td>\n",
       "    </tr>\n",
       "    <tr>\n",
       "      <th>2010-03-31</th>\n",
       "      <td>2325</td>\n",
       "      <td>19.0</td>\n",
       "      <td>48.84</td>\n",
       "      <td>0</td>\n",
       "      <td>8.58</td>\n",
       "      <td>28.10</td>\n",
       "      <td>2.09</td>\n",
       "      <td>4965.90</td>\n",
       "      <td>20.44</td>\n",
       "      <td>36.63</td>\n",
       "      <td>60.30</td>\n",
       "      <td>0.11</td>\n",
       "      <td>0.07</td>\n",
       "      <td>0</td>\n",
       "      <td>6.10</td>\n",
       "      <td>0.0</td>\n",
       "      <td>1.24</td>\n",
       "      <td>0.02</td>\n",
       "      <td>0.16</td>\n",
       "      <td>0.42</td>\n",
       "    </tr>\n",
       "    <tr>\n",
       "      <th>2010-04-30</th>\n",
       "      <td>3165</td>\n",
       "      <td>39.8</td>\n",
       "      <td>2.92</td>\n",
       "      <td>0</td>\n",
       "      <td>15.23</td>\n",
       "      <td>15.40</td>\n",
       "      <td>0.11</td>\n",
       "      <td>4490.62</td>\n",
       "      <td>27.85</td>\n",
       "      <td>59.76</td>\n",
       "      <td>19.06</td>\n",
       "      <td>0.00</td>\n",
       "      <td>0.06</td>\n",
       "      <td>0</td>\n",
       "      <td>3.33</td>\n",
       "      <td>0.0</td>\n",
       "      <td>0.02</td>\n",
       "      <td>0.00</td>\n",
       "      <td>0.00</td>\n",
       "      <td>0.01</td>\n",
       "    </tr>\n",
       "    <tr>\n",
       "      <th>2010-05-31</th>\n",
       "      <td>4216</td>\n",
       "      <td>88.8</td>\n",
       "      <td>17.57</td>\n",
       "      <td>0</td>\n",
       "      <td>18.10</td>\n",
       "      <td>25.15</td>\n",
       "      <td>0.19</td>\n",
       "      <td>4640.74</td>\n",
       "      <td>47.21</td>\n",
       "      <td>92.56</td>\n",
       "      <td>36.70</td>\n",
       "      <td>0.03</td>\n",
       "      <td>0.06</td>\n",
       "      <td>0</td>\n",
       "      <td>6.50</td>\n",
       "      <td>3.5</td>\n",
       "      <td>0.26</td>\n",
       "      <td>0.00</td>\n",
       "      <td>0.03</td>\n",
       "      <td>0.01</td>\n",
       "    </tr>\n",
       "  </tbody>\n",
       "</table>\n",
       "</div>"
      ],
      "text/plain": [
       "            time  prec_mm  surq_mm  latq_mm  gwq_mm  perco_mm  tileq_mm  \\\n",
       "date                                                                      \n",
       "2010-01-31   496     45.2    26.39        0   18.54      0.06      0.00   \n",
       "2010-02-28  1274     30.2     0.24        0    8.20      0.01      0.00   \n",
       "2010-03-31  2325     19.0    48.84        0    8.58     28.10      2.09   \n",
       "2010-04-30  3165     39.8     2.92        0   15.23     15.40      0.11   \n",
       "2010-05-31  4216     88.8    17.57        0   18.10     25.15      0.19   \n",
       "\n",
       "              sw_mm  et_mm  pet_mm  wateryield_mm  sedyield_mtpha  \\\n",
       "date                                                                \n",
       "2010-01-31  5138.95   1.14    2.25          46.01            0.08   \n",
       "2010-02-28  4755.77   1.46    2.94           9.20            0.00   \n",
       "2010-03-31  4965.90  20.44   36.63          60.30            0.11   \n",
       "2010-04-30  4490.62  27.85   59.76          19.06            0.00   \n",
       "2010-05-31  4640.74  47.21   92.56          36.70            0.03   \n",
       "\n",
       "            no3surq_kgnpha  no3latq_kgnpha  no3perc_kgnpha  no3crop_kgnpha  \\\n",
       "date                                                                         \n",
       "2010-01-31            0.02               0            0.00             0.0   \n",
       "2010-02-28            0.00               0            0.00             0.0   \n",
       "2010-03-31            0.07               0            6.10             0.0   \n",
       "2010-04-30            0.06               0            3.33             0.0   \n",
       "2010-05-31            0.06               0            6.50             3.5   \n",
       "\n",
       "            norgload_kgnpha  psolload_kgppha  porgload_kgppha  no3tile_kgnpha  \n",
       "date                                                                           \n",
       "2010-01-31             0.70             0.01             0.09            0.00  \n",
       "2010-02-28             0.00             0.00             0.00            0.00  \n",
       "2010-03-31             1.24             0.02             0.16            0.42  \n",
       "2010-04-30             0.02             0.00             0.00            0.01  \n",
       "2010-05-31             0.26             0.00             0.03            0.01  "
      ]
     },
     "execution_count": 211,
     "metadata": {},
     "output_type": "execute_result"
    }
   ],
   "source": [
    "# Let us look at monthly yields\n",
    "# but first we need to get total values added over months\n",
    "\n",
    "### setting date as index in the data set\n",
    "output_std.set_index('date')\n",
    "\n",
    "### resampling data so that we have monthly added values\n",
    "monthly = output_std.resample('M', on='date').sum()\n",
    "\n",
    "### dropping empty rows in newly created data set\n",
    "monthly.dropna(axis = 0, how = 'any', inplace=True)\n",
    "\n",
    "# looking at new df\n",
    "monthly.head()"
   ]
  },
  {
   "cell_type": "code",
   "execution_count": 212,
   "metadata": {},
   "outputs": [],
   "source": [
    "# it will be interesting to see what is going on in the winters\n",
    "# from our earlier data exploration, we found that Dec-Mar is when soil is most cold at 10 cm at Londes site\n",
    "\n",
    "\n",
    "### dividing the daily dataset into different months\n",
    "jan = output_std.loc[output_std['date'].dt.month == 1]\n",
    "feb = output_std.loc[output_std['date'].dt.month == 2]\n",
    "mar = output_std.loc[output_std['date'].dt.month == 3]\n",
    "apr = output_std.loc[output_std['date'].dt.month == 4]\n",
    "may = output_std.loc[output_std['date'].dt.month == 5]\n",
    "jun = output_std.loc[output_std['date'].dt.month == 6]\n",
    "jul = output_std.loc[output_std['date'].dt.month == 7]\n",
    "aug = output_std.loc[output_std['date'].dt.month == 8]\n",
    "sep = output_std.loc[output_std['date'].dt.month == 9]\n",
    "otb = output_std.loc[output_std['date'].dt.month == 10]\n",
    "nov = output_std.loc[output_std['date'].dt.month == 11]\n",
    "dec = output_std.loc[output_std['date'].dt.month == 12]"
   ]
  },
  {
   "cell_type": "code",
   "execution_count": 213,
   "metadata": {},
   "outputs": [],
   "source": [
    "# combining winter months into one df\n",
    "winter = pd.concat([dec, jan, feb, mar], ignore_index = True)"
   ]
  },
  {
   "cell_type": "code",
   "execution_count": 102,
   "metadata": {},
   "outputs": [
    {
     "data": {
      "text/html": [
       "<div>\n",
       "<style scoped>\n",
       "    .dataframe tbody tr th:only-of-type {\n",
       "        vertical-align: middle;\n",
       "    }\n",
       "\n",
       "    .dataframe tbody tr th {\n",
       "        vertical-align: top;\n",
       "    }\n",
       "\n",
       "    .dataframe thead th {\n",
       "        text-align: right;\n",
       "    }\n",
       "</style>\n",
       "<table border=\"1\" class=\"dataframe\">\n",
       "  <thead>\n",
       "    <tr style=\"text-align: right;\">\n",
       "      <th></th>\n",
       "      <th>time</th>\n",
       "      <th>prec_mm</th>\n",
       "      <th>surq_mm</th>\n",
       "      <th>latq_mm</th>\n",
       "      <th>gwq_mm</th>\n",
       "      <th>perco_mm</th>\n",
       "      <th>tileq_mm</th>\n",
       "      <th>sw_mm</th>\n",
       "      <th>et_mm</th>\n",
       "      <th>pet_mm</th>\n",
       "      <th>...</th>\n",
       "      <th>sedyield_mtpha</th>\n",
       "      <th>no3surq_kgnpha</th>\n",
       "      <th>no3latq_kgnpha</th>\n",
       "      <th>no3perc_kgnpha</th>\n",
       "      <th>no3crop_kgnpha</th>\n",
       "      <th>norgload_kgnpha</th>\n",
       "      <th>psolload_kgppha</th>\n",
       "      <th>porgload_kgppha</th>\n",
       "      <th>no3tile_kgnpha</th>\n",
       "      <th>date</th>\n",
       "    </tr>\n",
       "  </thead>\n",
       "  <tbody>\n",
       "    <tr>\n",
       "      <th>0</th>\n",
       "      <td>335</td>\n",
       "      <td>2.8</td>\n",
       "      <td>0.0</td>\n",
       "      <td>0</td>\n",
       "      <td>0.26</td>\n",
       "      <td>4.12</td>\n",
       "      <td>0.23</td>\n",
       "      <td>164.45</td>\n",
       "      <td>0.46</td>\n",
       "      <td>0.46</td>\n",
       "      <td>...</td>\n",
       "      <td>0.0</td>\n",
       "      <td>0.01</td>\n",
       "      <td>0</td>\n",
       "      <td>1.43</td>\n",
       "      <td>0.0</td>\n",
       "      <td>0.0</td>\n",
       "      <td>0.0</td>\n",
       "      <td>0.0</td>\n",
       "      <td>0.05</td>\n",
       "      <td>2010-12-01</td>\n",
       "    </tr>\n",
       "    <tr>\n",
       "      <th>1</th>\n",
       "      <td>336</td>\n",
       "      <td>1.5</td>\n",
       "      <td>0.0</td>\n",
       "      <td>0</td>\n",
       "      <td>0.29</td>\n",
       "      <td>2.75</td>\n",
       "      <td>0.04</td>\n",
       "      <td>161.53</td>\n",
       "      <td>0.13</td>\n",
       "      <td>0.14</td>\n",
       "      <td>...</td>\n",
       "      <td>0.0</td>\n",
       "      <td>0.00</td>\n",
       "      <td>0</td>\n",
       "      <td>0.90</td>\n",
       "      <td>0.0</td>\n",
       "      <td>0.0</td>\n",
       "      <td>0.0</td>\n",
       "      <td>0.0</td>\n",
       "      <td>0.01</td>\n",
       "      <td>2010-12-02</td>\n",
       "    </tr>\n",
       "    <tr>\n",
       "      <th>2</th>\n",
       "      <td>337</td>\n",
       "      <td>3.3</td>\n",
       "      <td>0.0</td>\n",
       "      <td>0</td>\n",
       "      <td>0.32</td>\n",
       "      <td>1.83</td>\n",
       "      <td>0.00</td>\n",
       "      <td>159.69</td>\n",
       "      <td>0.00</td>\n",
       "      <td>0.00</td>\n",
       "      <td>...</td>\n",
       "      <td>0.0</td>\n",
       "      <td>0.00</td>\n",
       "      <td>0</td>\n",
       "      <td>0.58</td>\n",
       "      <td>0.0</td>\n",
       "      <td>0.0</td>\n",
       "      <td>0.0</td>\n",
       "      <td>0.0</td>\n",
       "      <td>0.00</td>\n",
       "      <td>2010-12-03</td>\n",
       "    </tr>\n",
       "    <tr>\n",
       "      <th>3</th>\n",
       "      <td>338</td>\n",
       "      <td>1.2</td>\n",
       "      <td>0.0</td>\n",
       "      <td>0</td>\n",
       "      <td>0.35</td>\n",
       "      <td>1.24</td>\n",
       "      <td>0.00</td>\n",
       "      <td>158.46</td>\n",
       "      <td>0.00</td>\n",
       "      <td>0.00</td>\n",
       "      <td>...</td>\n",
       "      <td>0.0</td>\n",
       "      <td>0.00</td>\n",
       "      <td>0</td>\n",
       "      <td>0.37</td>\n",
       "      <td>0.0</td>\n",
       "      <td>0.0</td>\n",
       "      <td>0.0</td>\n",
       "      <td>0.0</td>\n",
       "      <td>0.00</td>\n",
       "      <td>2010-12-04</td>\n",
       "    </tr>\n",
       "    <tr>\n",
       "      <th>4</th>\n",
       "      <td>339</td>\n",
       "      <td>4.9</td>\n",
       "      <td>0.0</td>\n",
       "      <td>0</td>\n",
       "      <td>0.38</td>\n",
       "      <td>0.85</td>\n",
       "      <td>0.00</td>\n",
       "      <td>157.61</td>\n",
       "      <td>0.00</td>\n",
       "      <td>0.00</td>\n",
       "      <td>...</td>\n",
       "      <td>0.0</td>\n",
       "      <td>0.00</td>\n",
       "      <td>0</td>\n",
       "      <td>0.25</td>\n",
       "      <td>0.0</td>\n",
       "      <td>0.0</td>\n",
       "      <td>0.0</td>\n",
       "      <td>0.0</td>\n",
       "      <td>0.00</td>\n",
       "      <td>2010-12-05</td>\n",
       "    </tr>\n",
       "  </tbody>\n",
       "</table>\n",
       "<p>5 rows × 21 columns</p>\n",
       "</div>"
      ],
      "text/plain": [
       "   time  prec_mm  surq_mm  latq_mm  gwq_mm  perco_mm  tileq_mm   sw_mm  et_mm  \\\n",
       "0   335      2.8      0.0        0    0.26      4.12      0.23  164.45   0.46   \n",
       "1   336      1.5      0.0        0    0.29      2.75      0.04  161.53   0.13   \n",
       "2   337      3.3      0.0        0    0.32      1.83      0.00  159.69   0.00   \n",
       "3   338      1.2      0.0        0    0.35      1.24      0.00  158.46   0.00   \n",
       "4   339      4.9      0.0        0    0.38      0.85      0.00  157.61   0.00   \n",
       "\n",
       "   pet_mm  ...  sedyield_mtpha  no3surq_kgnpha  no3latq_kgnpha  \\\n",
       "0    0.46  ...             0.0            0.01               0   \n",
       "1    0.14  ...             0.0            0.00               0   \n",
       "2    0.00  ...             0.0            0.00               0   \n",
       "3    0.00  ...             0.0            0.00               0   \n",
       "4    0.00  ...             0.0            0.00               0   \n",
       "\n",
       "   no3perc_kgnpha  no3crop_kgnpha  norgload_kgnpha  psolload_kgppha  \\\n",
       "0            1.43             0.0              0.0              0.0   \n",
       "1            0.90             0.0              0.0              0.0   \n",
       "2            0.58             0.0              0.0              0.0   \n",
       "3            0.37             0.0              0.0              0.0   \n",
       "4            0.25             0.0              0.0              0.0   \n",
       "\n",
       "   porgload_kgppha  no3tile_kgnpha       date  \n",
       "0              0.0            0.05 2010-12-01  \n",
       "1              0.0            0.01 2010-12-02  \n",
       "2              0.0            0.00 2010-12-03  \n",
       "3              0.0            0.00 2010-12-04  \n",
       "4              0.0            0.00 2010-12-05  \n",
       "\n",
       "[5 rows x 21 columns]"
      ]
     },
     "execution_count": 102,
     "metadata": {},
     "output_type": "execute_result"
    }
   ],
   "source": [
    "winter.head()"
   ]
  },
  {
   "cell_type": "code",
   "execution_count": 214,
   "metadata": {},
   "outputs": [],
   "source": [
    "wint = winter.set_index('date')"
   ]
  },
  {
   "cell_type": "code",
   "execution_count": 215,
   "metadata": {},
   "outputs": [
    {
     "data": {
      "text/plain": [
       "Text(0, 0.5, 'tile flow contribution to stream in mm')"
      ]
     },
     "execution_count": 215,
     "metadata": {},
     "output_type": "execute_result"
    },
    {
     "data": {
      "image/png": "[encoded data removed]",
      "text/plain": [
       "<Figure size 1440x720 with 2 Axes>"
      ]
     },
     "metadata": {
      "needs_background": "light"
     },
     "output_type": "display_data"
    }
   ],
   "source": [
    "### plotting time series for winter months in all years\n",
    "plt.figure(figsize=(20,10))\n",
    "plt.subplot(2,1,1)\n",
    "plt.scatter(wint.index.values, wint.surq_mm, c='b')\n",
    "plt.xlabel('time')\n",
    "plt.ylabel('surface runoff in mm')\n",
    "plt.subplot(2,1,2)\n",
    "plt.scatter(wint.index.values, wint.tileq_mm, c='g')\n",
    "plt.xlabel('time')\n",
    "plt.ylabel('tile flow contribution to stream in mm')"
   ]
  },
  {
   "cell_type": "code",
   "execution_count": 216,
   "metadata": {},
   "outputs": [
    {
     "data": {
      "text/plain": [
       "Text(0, 0.5, 'tile flow contribution to stream in mm')"
      ]
     },
     "execution_count": 216,
     "metadata": {},
     "output_type": "execute_result"
    },
    {
     "data": {
      "image/png": "[encoded data removed]",
      "text/plain": [
       "<Figure size 1440x720 with 2 Axes>"
      ]
     },
     "metadata": {
      "needs_background": "light"
     },
     "output_type": "display_data"
    }
   ],
   "source": [
    "### plotting time series for all months all years\n",
    "plt.figure(figsize=(20,10))\n",
    "plt.subplot(2,1,1)\n",
    "plt.plot(output_std.date, output_std.surq_mm, c='b')\n",
    "plt.xlabel('time')\n",
    "plt.ylabel('surface runoff in mm')\n",
    "plt.subplot(2,1,2)\n",
    "plt.plot(output_std.date, output_std.tileq_mm, c='g')\n",
    "plt.xlabel('time')\n",
    "plt.ylabel('tile flow contribution to stream in mm')"
   ]
  },
  {
   "cell_type": "code",
   "execution_count": 202,
   "metadata": {},
   "outputs": [],
   "source": [
    "# getting a dataset when tile event occured\n",
    "winter_tile = winter.loc[winter['tileq_mm']>0]"
   ]
  },
  {
   "cell_type": "code",
   "execution_count": 203,
   "metadata": {},
   "outputs": [
    {
     "name": "stdout",
     "output_type": "stream",
     "text": [
      "1091\n"
     ]
    }
   ],
   "source": [
    "# total number of days in winter\n",
    "outof = winter.shape[0]\n",
    "print(outof)"
   ]
  },
  {
   "cell_type": "code",
   "execution_count": 204,
   "metadata": {},
   "outputs": [
    {
     "name": "stdout",
     "output_type": "stream",
     "text": [
      "70\n"
     ]
    }
   ],
   "source": [
    "# total number of days in winter when tiles ran\n",
    "tiledays=winter_tile.shape[0]\n",
    "print(tiledays)"
   ]
  },
  {
   "cell_type": "code",
   "execution_count": 205,
   "metadata": {},
   "outputs": [
    {
     "name": "stdout",
     "output_type": "stream",
     "text": [
      "6.416131989000917 % of the winter days, the tiles were running.\n"
     ]
    }
   ],
   "source": [
    "# percentage of days when tiles flow in winter\n",
    "tileflowpct = 100*(tiledays/outof)\n",
    "print(tileflowpct, '% of the winter days, the tiles were running.')"
   ]
  },
  {
   "cell_type": "code",
   "execution_count": 206,
   "metadata": {},
   "outputs": [
    {
     "name": "stdout",
     "output_type": "stream",
     "text": [
      "total annual tile flow in winters from 2010 to 2019:  1.2944444444444445 mm\n"
     ]
    }
   ],
   "source": [
    "total_tileq = winter_tile.tileq_mm.sum()\n",
    "print('total annual tile flow in winters from 2010 to 2019: ', (total_tileq/9), 'mm')"
   ]
  },
  {
   "cell_type": "code",
   "execution_count": 207,
   "metadata": {},
   "outputs": [
    {
     "data": {
      "text/plain": [
       "11.65"
      ]
     },
     "execution_count": 207,
     "metadata": {},
     "output_type": "execute_result"
    }
   ],
   "source": [
    "total_tileq"
   ]
  },
  {
   "cell_type": "code",
   "execution_count": 147,
   "metadata": {
    "scrolled": true
   },
   "outputs": [
    {
     "data": {
      "text/plain": [
       "Text(0, 0.5, 'tile flow contribution to stream in mm')"
      ]
     },
     "execution_count": 147,
     "metadata": {},
     "output_type": "execute_result"
    },
    {
     "data": {
      "image/png": "[encoded data removed]",
      "text/plain": [
       "<Figure size 1440x720 with 2 Axes>"
      ]
     },
     "metadata": {
      "needs_background": "light"
     },
     "output_type": "display_data"
    }
   ],
   "source": [
    "### plotting time series for monthly added values for all years\n",
    "\n",
    "plt.figure(figsize=(20,10))\n",
    "plt.subplot(2,1,1)\n",
    "plt.scatter(monthly.index.values, monthly.surq_mm, c='b')\n",
    "plt.xlabel('time')\n",
    "plt.ylabel('surface runoff in mm')\n",
    "plt.subplot(2,1,2)\n",
    "plt.scatter(monthly.index.values, monthly.tileq_mm, c='g')\n",
    "plt.xlabel('time')\n",
    "plt.ylabel('tile flow contribution to stream in mm')"
   ]
  },
  {
   "cell_type": "code",
   "execution_count": 148,
   "metadata": {},
   "outputs": [
    {
     "data": {
      "text/html": [
       "<div>\n",
       "<style scoped>\n",
       "    .dataframe tbody tr th:only-of-type {\n",
       "        vertical-align: middle;\n",
       "    }\n",
       "\n",
       "    .dataframe tbody tr th {\n",
       "        vertical-align: top;\n",
       "    }\n",
       "\n",
       "    .dataframe thead th {\n",
       "        text-align: right;\n",
       "    }\n",
       "</style>\n",
       "<table border=\"1\" class=\"dataframe\">\n",
       "  <thead>\n",
       "    <tr style=\"text-align: right;\">\n",
       "      <th></th>\n",
       "      <th>prec_mm</th>\n",
       "      <th>surq_mm</th>\n",
       "      <th>latq_mm</th>\n",
       "      <th>gwq_mm</th>\n",
       "      <th>perco_mm</th>\n",
       "      <th>tileq_mm</th>\n",
       "      <th>sw_mm</th>\n",
       "      <th>et_mm</th>\n",
       "      <th>pet_mm</th>\n",
       "      <th>wateryield_mm</th>\n",
       "      <th>sedyield_mtpha</th>\n",
       "      <th>no3surq_kgnpha</th>\n",
       "      <th>no3latq_kgnpha</th>\n",
       "      <th>no3perc_kgnpha</th>\n",
       "      <th>no3crop_kgnpha</th>\n",
       "      <th>norgload_kgnpha</th>\n",
       "      <th>psolload_kgppha</th>\n",
       "      <th>porgload_kgppha</th>\n",
       "      <th>no3tile_kgnpha</th>\n",
       "    </tr>\n",
       "    <tr>\n",
       "      <th>time</th>\n",
       "      <th></th>\n",
       "      <th></th>\n",
       "      <th></th>\n",
       "      <th></th>\n",
       "      <th></th>\n",
       "      <th></th>\n",
       "      <th></th>\n",
       "      <th></th>\n",
       "      <th></th>\n",
       "      <th></th>\n",
       "      <th></th>\n",
       "      <th></th>\n",
       "      <th></th>\n",
       "      <th></th>\n",
       "      <th></th>\n",
       "      <th></th>\n",
       "      <th></th>\n",
       "      <th></th>\n",
       "      <th></th>\n",
       "    </tr>\n",
       "  </thead>\n",
       "  <tbody>\n",
       "    <tr>\n",
       "      <th>1</th>\n",
       "      <td>2.011111</td>\n",
       "      <td>2.598889</td>\n",
       "      <td>0</td>\n",
       "      <td>0</td>\n",
       "      <td>0</td>\n",
       "      <td>0</td>\n",
       "      <td>148.056667</td>\n",
       "      <td>0.043333</td>\n",
       "      <td>0.130000</td>\n",
       "      <td>2.652222</td>\n",
       "      <td>0.0</td>\n",
       "      <td>0.0</td>\n",
       "      <td>0</td>\n",
       "      <td>0</td>\n",
       "      <td>0.0</td>\n",
       "      <td>0.012222</td>\n",
       "      <td>0.0</td>\n",
       "      <td>0.002222</td>\n",
       "      <td>0</td>\n",
       "    </tr>\n",
       "    <tr>\n",
       "      <th>2</th>\n",
       "      <td>0.411111</td>\n",
       "      <td>0.000000</td>\n",
       "      <td>0</td>\n",
       "      <td>0</td>\n",
       "      <td>0</td>\n",
       "      <td>0</td>\n",
       "      <td>147.981111</td>\n",
       "      <td>0.076667</td>\n",
       "      <td>0.194444</td>\n",
       "      <td>0.415556</td>\n",
       "      <td>0.0</td>\n",
       "      <td>0.0</td>\n",
       "      <td>0</td>\n",
       "      <td>0</td>\n",
       "      <td>0.0</td>\n",
       "      <td>0.001111</td>\n",
       "      <td>0.0</td>\n",
       "      <td>0.000000</td>\n",
       "      <td>0</td>\n",
       "    </tr>\n",
       "    <tr>\n",
       "      <th>3</th>\n",
       "      <td>2.894444</td>\n",
       "      <td>0.518889</td>\n",
       "      <td>0</td>\n",
       "      <td>0</td>\n",
       "      <td>0</td>\n",
       "      <td>0</td>\n",
       "      <td>148.367778</td>\n",
       "      <td>0.044444</td>\n",
       "      <td>0.106667</td>\n",
       "      <td>0.514444</td>\n",
       "      <td>0.0</td>\n",
       "      <td>0.0</td>\n",
       "      <td>0</td>\n",
       "      <td>0</td>\n",
       "      <td>0.0</td>\n",
       "      <td>0.001111</td>\n",
       "      <td>0.0</td>\n",
       "      <td>0.000000</td>\n",
       "      <td>0</td>\n",
       "    </tr>\n",
       "    <tr>\n",
       "      <th>4</th>\n",
       "      <td>1.711111</td>\n",
       "      <td>0.000000</td>\n",
       "      <td>0</td>\n",
       "      <td>0</td>\n",
       "      <td>0</td>\n",
       "      <td>0</td>\n",
       "      <td>148.271111</td>\n",
       "      <td>0.096667</td>\n",
       "      <td>0.224444</td>\n",
       "      <td>0.082222</td>\n",
       "      <td>0.0</td>\n",
       "      <td>0.0</td>\n",
       "      <td>0</td>\n",
       "      <td>0</td>\n",
       "      <td>0.0</td>\n",
       "      <td>0.000000</td>\n",
       "      <td>0.0</td>\n",
       "      <td>0.000000</td>\n",
       "      <td>0</td>\n",
       "    </tr>\n",
       "    <tr>\n",
       "      <th>5</th>\n",
       "      <td>0.366667</td>\n",
       "      <td>0.000000</td>\n",
       "      <td>0</td>\n",
       "      <td>0</td>\n",
       "      <td>0</td>\n",
       "      <td>0</td>\n",
       "      <td>148.176667</td>\n",
       "      <td>0.093333</td>\n",
       "      <td>0.198889</td>\n",
       "      <td>0.015556</td>\n",
       "      <td>0.0</td>\n",
       "      <td>0.0</td>\n",
       "      <td>0</td>\n",
       "      <td>0</td>\n",
       "      <td>0.0</td>\n",
       "      <td>0.000000</td>\n",
       "      <td>0.0</td>\n",
       "      <td>0.000000</td>\n",
       "      <td>0</td>\n",
       "    </tr>\n",
       "  </tbody>\n",
       "</table>\n",
       "</div>"
      ],
      "text/plain": [
       "       prec_mm   surq_mm  latq_mm  gwq_mm  perco_mm  tileq_mm       sw_mm  \\\n",
       "time                                                                        \n",
       "1     2.011111  2.598889        0       0         0         0  148.056667   \n",
       "2     0.411111  0.000000        0       0         0         0  147.981111   \n",
       "3     2.894444  0.518889        0       0         0         0  148.367778   \n",
       "4     1.711111  0.000000        0       0         0         0  148.271111   \n",
       "5     0.366667  0.000000        0       0         0         0  148.176667   \n",
       "\n",
       "         et_mm    pet_mm  wateryield_mm  sedyield_mtpha  no3surq_kgnpha  \\\n",
       "time                                                                      \n",
       "1     0.043333  0.130000       2.652222             0.0             0.0   \n",
       "2     0.076667  0.194444       0.415556             0.0             0.0   \n",
       "3     0.044444  0.106667       0.514444             0.0             0.0   \n",
       "4     0.096667  0.224444       0.082222             0.0             0.0   \n",
       "5     0.093333  0.198889       0.015556             0.0             0.0   \n",
       "\n",
       "      no3latq_kgnpha  no3perc_kgnpha  no3crop_kgnpha  norgload_kgnpha  \\\n",
       "time                                                                    \n",
       "1                  0               0             0.0         0.012222   \n",
       "2                  0               0             0.0         0.001111   \n",
       "3                  0               0             0.0         0.001111   \n",
       "4                  0               0             0.0         0.000000   \n",
       "5                  0               0             0.0         0.000000   \n",
       "\n",
       "      psolload_kgppha  porgload_kgppha  no3tile_kgnpha  \n",
       "time                                                    \n",
       "1                 0.0         0.002222               0  \n",
       "2                 0.0         0.000000               0  \n",
       "3                 0.0         0.000000               0  \n",
       "4                 0.0         0.000000               0  \n",
       "5                 0.0         0.000000               0  "
      ]
     },
     "execution_count": 148,
     "metadata": {},
     "output_type": "execute_result"
    }
   ],
   "source": [
    "# Finding average values for each julian day (1-365) for 9 years.\n",
    "\n",
    "### grouping data by julian day (1-365)\n",
    "ann_avg = output_std.groupby('time').mean()\n",
    "\n",
    "### dropping empty rows in newly created data set\n",
    "ann_avg.dropna(axis = 0, how = 'any', inplace=True)\n",
    "\n",
    "# looking at new df\n",
    "ann_avg.head()"
   ]
  },
  {
   "cell_type": "code",
   "execution_count": 149,
   "metadata": {},
   "outputs": [
    {
     "data": {
      "text/plain": [
       "(366, 19)"
      ]
     },
     "execution_count": 149,
     "metadata": {},
     "output_type": "execute_result"
    }
   ],
   "source": [
    "# making sure the new dataset has 366 values (days in a year)\n",
    "ann_avg.shape"
   ]
  },
  {
   "cell_type": "code",
   "execution_count": 150,
   "metadata": {},
   "outputs": [
    {
     "data": {
      "text/plain": [
       "Text(0, 0.5, 'tile flow contribution to stream in mm')"
      ]
     },
     "execution_count": 150,
     "metadata": {},
     "output_type": "execute_result"
    },
    {
     "data": {
      "image/png": "[encoded data removed]",
      "text/plain": [
       "<Figure size 1440x720 with 2 Axes>"
      ]
     },
     "metadata": {
      "needs_background": "light"
     },
     "output_type": "display_data"
    }
   ],
   "source": [
    "# plotting surface flow and tile flow\n",
    "\n",
    "plt.figure(figsize=(20,10))\n",
    "plt.subplot(2,1,1)\n",
    "plt.plot(ann_avg.index.values, ann_avg.surq_mm, c='b')\n",
    "plt.xlabel('time')\n",
    "plt.ylabel('surface runoff in mm')\n",
    "plt.subplot(2,1,2)\n",
    "plt.plot(ann_avg.index.values, ann_avg.tileq_mm, c='g')\n",
    "plt.xlabel('time')\n",
    "plt.ylabel('tile flow contribution to stream in mm')"
   ]
  },
  {
   "cell_type": "code",
   "execution_count": null,
   "metadata": {},
   "outputs": [],
   "source": []
  },
  {
   "cell_type": "code",
   "execution_count": null,
   "metadata": {},
   "outputs": [],
   "source": []
  }
 ],
 "metadata": {
  "kernelspec": {
   "display_name": "Python 3",
   "language": "python",
   "name": "python3"
  },
  "language_info": {
   "codemirror_mode": {
    "name": "ipython",
    "version": 3
   },
   "file_extension": ".py",
   "mimetype": "text/x-python",
   "name": "python",
   "nbconvert_exporter": "python",
   "pygments_lexer": "ipython3",
   "version": "3.8.5"
  }
 },
 "nbformat": 4,
 "nbformat_minor": 4
}
