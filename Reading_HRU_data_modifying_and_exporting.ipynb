{
 "cells": [
  {
   "cell_type": "code",
   "execution_count": 1,
   "metadata": {},
   "outputs": [],
   "source": [
    "#importing resources\n",
    "import pandas as pd\n",
    "import numpy as np\n",
    "import datetime"
   ]
  },
  {
   "cell_type": "code",
   "execution_count": 2,
   "metadata": {},
   "outputs": [],
   "source": [
    "# specifying file location\n",
    "file = '//north.cfs.uoguelph.ca/soe-other-home$/dhimanj/Desktop/londes_mod_SWAT_surftemp.xlsx'"
   ]
  },
  {
   "cell_type": "code",
   "execution_count": 3,
   "metadata": {},
   "outputs": [],
   "source": [
    "# reading the file\n",
    "hru = pd.read_excel(file, header=0)"
   ]
  },
  {
   "cell_type": "code",
   "execution_count": 4,
   "metadata": {
    "scrolled": true
   },
   "outputs": [
    {
     "data": {
      "text/html": [
       "<div>\n",
       "<style scoped>\n",
       "    .dataframe tbody tr th:only-of-type {\n",
       "        vertical-align: middle;\n",
       "    }\n",
       "\n",
       "    .dataframe tbody tr th {\n",
       "        vertical-align: top;\n",
       "    }\n",
       "\n",
       "    .dataframe thead th {\n",
       "        text-align: right;\n",
       "    }\n",
       "</style>\n",
       "<table border=\"1\" class=\"dataframe\">\n",
       "  <thead>\n",
       "    <tr style=\"text-align: right;\">\n",
       "      <th></th>\n",
       "      <th>LULC</th>\n",
       "      <th>HRU</th>\n",
       "      <th>HRUGIS</th>\n",
       "      <th>SUB</th>\n",
       "      <th>YEAR</th>\n",
       "      <th>MON</th>\n",
       "      <th>AREAkm2</th>\n",
       "      <th>PRECIPmm</th>\n",
       "      <th>SURQ_GENmm</th>\n",
       "      <th>TMP_AVdgC</th>\n",
       "      <th>TMP_MXdgC</th>\n",
       "      <th>TMP_MNdgC</th>\n",
       "      <th>YLDt_ha</th>\n",
       "      <th>QTILEmm</th>\n",
       "      <th>YYYYDDD</th>\n",
       "    </tr>\n",
       "  </thead>\n",
       "  <tbody>\n",
       "    <tr>\n",
       "      <th>14243</th>\n",
       "      <td>CLVR</td>\n",
       "      <td>9</td>\n",
       "      <td>90001</td>\n",
       "      <td>9</td>\n",
       "      <td>2014</td>\n",
       "      <td>365</td>\n",
       "      <td>0.006144</td>\n",
       "      <td>1.0</td>\n",
       "      <td>0.0</td>\n",
       "      <td>-8.25</td>\n",
       "      <td>-6.3</td>\n",
       "      <td>-10.2</td>\n",
       "      <td>0.0</td>\n",
       "      <td>0.0</td>\n",
       "      <td>2014365</td>\n",
       "    </tr>\n",
       "    <tr>\n",
       "      <th>14244</th>\n",
       "      <td>CLVR</td>\n",
       "      <td>10</td>\n",
       "      <td>100001</td>\n",
       "      <td>10</td>\n",
       "      <td>2014</td>\n",
       "      <td>365</td>\n",
       "      <td>0.000020</td>\n",
       "      <td>1.0</td>\n",
       "      <td>0.0</td>\n",
       "      <td>-8.25</td>\n",
       "      <td>-6.3</td>\n",
       "      <td>-10.2</td>\n",
       "      <td>0.0</td>\n",
       "      <td>0.0</td>\n",
       "      <td>2014365</td>\n",
       "    </tr>\n",
       "    <tr>\n",
       "      <th>14245</th>\n",
       "      <td>CLVR</td>\n",
       "      <td>11</td>\n",
       "      <td>110001</td>\n",
       "      <td>11</td>\n",
       "      <td>2014</td>\n",
       "      <td>365</td>\n",
       "      <td>0.015633</td>\n",
       "      <td>1.0</td>\n",
       "      <td>0.0</td>\n",
       "      <td>-8.25</td>\n",
       "      <td>-6.3</td>\n",
       "      <td>-10.2</td>\n",
       "      <td>0.0</td>\n",
       "      <td>0.0</td>\n",
       "      <td>2014365</td>\n",
       "    </tr>\n",
       "    <tr>\n",
       "      <th>14246</th>\n",
       "      <td>CLVR</td>\n",
       "      <td>12</td>\n",
       "      <td>120001</td>\n",
       "      <td>12</td>\n",
       "      <td>2014</td>\n",
       "      <td>365</td>\n",
       "      <td>0.006092</td>\n",
       "      <td>1.0</td>\n",
       "      <td>0.0</td>\n",
       "      <td>-8.25</td>\n",
       "      <td>-6.3</td>\n",
       "      <td>-10.2</td>\n",
       "      <td>0.0</td>\n",
       "      <td>0.0</td>\n",
       "      <td>2014365</td>\n",
       "    </tr>\n",
       "    <tr>\n",
       "      <th>14247</th>\n",
       "      <td>CLVR</td>\n",
       "      <td>13</td>\n",
       "      <td>130001</td>\n",
       "      <td>13</td>\n",
       "      <td>2014</td>\n",
       "      <td>365</td>\n",
       "      <td>0.010649</td>\n",
       "      <td>1.0</td>\n",
       "      <td>0.0</td>\n",
       "      <td>-8.25</td>\n",
       "      <td>-6.3</td>\n",
       "      <td>-10.2</td>\n",
       "      <td>0.0</td>\n",
       "      <td>0.0</td>\n",
       "      <td>2014365</td>\n",
       "    </tr>\n",
       "  </tbody>\n",
       "</table>\n",
       "</div>"
      ],
      "text/plain": [
       "       LULC  HRU  HRUGIS  SUB  YEAR  MON   AREAkm2  PRECIPmm  SURQ_GENmm  \\\n",
       "14243  CLVR    9   90001    9  2014  365  0.006144       1.0         0.0   \n",
       "14244  CLVR   10  100001   10  2014  365  0.000020       1.0         0.0   \n",
       "14245  CLVR   11  110001   11  2014  365  0.015633       1.0         0.0   \n",
       "14246  CLVR   12  120001   12  2014  365  0.006092       1.0         0.0   \n",
       "14247  CLVR   13  130001   13  2014  365  0.010649       1.0         0.0   \n",
       "\n",
       "       TMP_AVdgC  TMP_MXdgC  TMP_MNdgC  YLDt_ha  QTILEmm  YYYYDDD  \n",
       "14243      -8.25       -6.3      -10.2      0.0      0.0  2014365  \n",
       "14244      -8.25       -6.3      -10.2      0.0      0.0  2014365  \n",
       "14245      -8.25       -6.3      -10.2      0.0      0.0  2014365  \n",
       "14246      -8.25       -6.3      -10.2      0.0      0.0  2014365  \n",
       "14247      -8.25       -6.3      -10.2      0.0      0.0  2014365  "
      ]
     },
     "execution_count": 4,
     "metadata": {},
     "output_type": "execute_result"
    }
   ],
   "source": [
    "# checking first 5 rows\n",
    "hru.tail()"
   ]
  },
  {
   "cell_type": "code",
   "execution_count": 5,
   "metadata": {},
   "outputs": [
    {
     "data": {
      "text/plain": [
       "(14248, 15)"
      ]
     },
     "execution_count": 5,
     "metadata": {},
     "output_type": "execute_result"
    }
   ],
   "source": [
    "hru.shape"
   ]
  },
  {
   "cell_type": "code",
   "execution_count": 6,
   "metadata": {},
   "outputs": [
    {
     "data": {
      "text/plain": [
       "0        2012001\n",
       "1        2012001\n",
       "2        2012001\n",
       "3        2012001\n",
       "4        2012001\n",
       "          ...   \n",
       "14243    2014365\n",
       "14244    2014365\n",
       "14245    2014365\n",
       "14246    2014365\n",
       "14247    2014365\n",
       "Name: YYYYDDD, Length: 14248, dtype: int64"
      ]
     },
     "execution_count": 6,
     "metadata": {},
     "output_type": "execute_result"
    }
   ],
   "source": [
    "hru.YYYYDDD"
   ]
  },
  {
   "cell_type": "code",
   "execution_count": 7,
   "metadata": {},
   "outputs": [],
   "source": [
    "# finding sum of all same HRU nos. in a given day (julian) of given year\n",
    "hru_sum = hru.groupby([\"YYYYDDD\"]).mean()"
   ]
  },
  {
   "cell_type": "code",
   "execution_count": 8,
   "metadata": {},
   "outputs": [
    {
     "data": {
      "text/plain": [
       "(1096, 13)"
      ]
     },
     "execution_count": 8,
     "metadata": {},
     "output_type": "execute_result"
    }
   ],
   "source": [
    "#checking size of the dataframe (12 months x 9 years)\n",
    "hru_sum.shape\n"
   ]
  },
  {
   "cell_type": "code",
   "execution_count": 9,
   "metadata": {
    "scrolled": true
   },
   "outputs": [
    {
     "data": {
      "text/html": [
       "<div>\n",
       "<style scoped>\n",
       "    .dataframe tbody tr th:only-of-type {\n",
       "        vertical-align: middle;\n",
       "    }\n",
       "\n",
       "    .dataframe tbody tr th {\n",
       "        vertical-align: top;\n",
       "    }\n",
       "\n",
       "    .dataframe thead th {\n",
       "        text-align: right;\n",
       "    }\n",
       "</style>\n",
       "<table border=\"1\" class=\"dataframe\">\n",
       "  <thead>\n",
       "    <tr style=\"text-align: right;\">\n",
       "      <th></th>\n",
       "      <th>HRU</th>\n",
       "      <th>HRUGIS</th>\n",
       "      <th>SUB</th>\n",
       "      <th>YEAR</th>\n",
       "      <th>MON</th>\n",
       "      <th>AREAkm2</th>\n",
       "      <th>PRECIPmm</th>\n",
       "      <th>SURQ_GENmm</th>\n",
       "      <th>TMP_AVdgC</th>\n",
       "      <th>TMP_MXdgC</th>\n",
       "      <th>TMP_MNdgC</th>\n",
       "      <th>YLDt_ha</th>\n",
       "      <th>QTILEmm</th>\n",
       "    </tr>\n",
       "    <tr>\n",
       "      <th>YYYYDDD</th>\n",
       "      <th></th>\n",
       "      <th></th>\n",
       "      <th></th>\n",
       "      <th></th>\n",
       "      <th></th>\n",
       "      <th></th>\n",
       "      <th></th>\n",
       "      <th></th>\n",
       "      <th></th>\n",
       "      <th></th>\n",
       "      <th></th>\n",
       "      <th></th>\n",
       "      <th></th>\n",
       "    </tr>\n",
       "  </thead>\n",
       "  <tbody>\n",
       "    <tr>\n",
       "      <th>2012001</th>\n",
       "      <td>7</td>\n",
       "      <td>70001</td>\n",
       "      <td>7</td>\n",
       "      <td>2012</td>\n",
       "      <td>1</td>\n",
       "      <td>0.006412</td>\n",
       "      <td>33.8</td>\n",
       "      <td>8.814923</td>\n",
       "      <td>2.1</td>\n",
       "      <td>5.9</td>\n",
       "      <td>-1.7</td>\n",
       "      <td>251.891462</td>\n",
       "      <td>5.319000</td>\n",
       "    </tr>\n",
       "    <tr>\n",
       "      <th>2012002</th>\n",
       "      <td>7</td>\n",
       "      <td>70001</td>\n",
       "      <td>7</td>\n",
       "      <td>2012</td>\n",
       "      <td>2</td>\n",
       "      <td>0.006412</td>\n",
       "      <td>10.2</td>\n",
       "      <td>0.000000</td>\n",
       "      <td>-6.1</td>\n",
       "      <td>-2.4</td>\n",
       "      <td>-9.8</td>\n",
       "      <td>0.000000</td>\n",
       "      <td>4.455154</td>\n",
       "    </tr>\n",
       "    <tr>\n",
       "      <th>2012003</th>\n",
       "      <td>7</td>\n",
       "      <td>70001</td>\n",
       "      <td>7</td>\n",
       "      <td>2012</td>\n",
       "      <td>3</td>\n",
       "      <td>0.006412</td>\n",
       "      <td>0.0</td>\n",
       "      <td>0.000000</td>\n",
       "      <td>-11.0</td>\n",
       "      <td>-5.8</td>\n",
       "      <td>-16.2</td>\n",
       "      <td>0.000000</td>\n",
       "      <td>3.519154</td>\n",
       "    </tr>\n",
       "    <tr>\n",
       "      <th>2012004</th>\n",
       "      <td>7</td>\n",
       "      <td>70001</td>\n",
       "      <td>7</td>\n",
       "      <td>2012</td>\n",
       "      <td>4</td>\n",
       "      <td>0.006412</td>\n",
       "      <td>0.0</td>\n",
       "      <td>0.000000</td>\n",
       "      <td>-6.7</td>\n",
       "      <td>-0.6</td>\n",
       "      <td>-12.8</td>\n",
       "      <td>0.000000</td>\n",
       "      <td>2.749846</td>\n",
       "    </tr>\n",
       "    <tr>\n",
       "      <th>2012005</th>\n",
       "      <td>7</td>\n",
       "      <td>70001</td>\n",
       "      <td>7</td>\n",
       "      <td>2012</td>\n",
       "      <td>5</td>\n",
       "      <td>0.006412</td>\n",
       "      <td>0.8</td>\n",
       "      <td>0.000000</td>\n",
       "      <td>-0.5</td>\n",
       "      <td>0.6</td>\n",
       "      <td>-1.6</td>\n",
       "      <td>0.000000</td>\n",
       "      <td>2.128769</td>\n",
       "    </tr>\n",
       "  </tbody>\n",
       "</table>\n",
       "</div>"
      ],
      "text/plain": [
       "         HRU  HRUGIS  SUB  YEAR  MON   AREAkm2  PRECIPmm  SURQ_GENmm  \\\n",
       "YYYYDDD                                                                \n",
       "2012001    7   70001    7  2012    1  0.006412      33.8    8.814923   \n",
       "2012002    7   70001    7  2012    2  0.006412      10.2    0.000000   \n",
       "2012003    7   70001    7  2012    3  0.006412       0.0    0.000000   \n",
       "2012004    7   70001    7  2012    4  0.006412       0.0    0.000000   \n",
       "2012005    7   70001    7  2012    5  0.006412       0.8    0.000000   \n",
       "\n",
       "         TMP_AVdgC  TMP_MXdgC  TMP_MNdgC     YLDt_ha   QTILEmm  \n",
       "YYYYDDD                                                         \n",
       "2012001        2.1        5.9       -1.7  251.891462  5.319000  \n",
       "2012002       -6.1       -2.4       -9.8    0.000000  4.455154  \n",
       "2012003      -11.0       -5.8      -16.2    0.000000  3.519154  \n",
       "2012004       -6.7       -0.6      -12.8    0.000000  2.749846  \n",
       "2012005       -0.5        0.6       -1.6    0.000000  2.128769  "
      ]
     },
     "execution_count": 9,
     "metadata": {},
     "output_type": "execute_result"
    }
   ],
   "source": [
    "# checking 5 rows of new dataframe with average values of the month\n",
    "hru_sum.head()"
   ]
  },
  {
   "cell_type": "code",
   "execution_count": 10,
   "metadata": {},
   "outputs": [],
   "source": [
    "# expporting dataframe to excel\n",
    "hru_sum.to_excel (r'//north.cfs.uoguelph.ca/soe-other-home$/dhimanj/Desktop/surftemp_swat_daily_out.xlsx', index = True, header=True)"
   ]
  }
 ],
 "metadata": {
  "kernelspec": {
   "display_name": "Python 3",
   "language": "python",
   "name": "python3"
  },
  "language_info": {
   "codemirror_mode": {
    "name": "ipython",
    "version": 3
   },
   "file_extension": ".py",
   "mimetype": "text/x-python",
   "name": "python",
   "nbconvert_exporter": "python",
   "pygments_lexer": "ipython3",
   "version": "3.8.5"
  }
 },
 "nbformat": 4,
 "nbformat_minor": 4
}
