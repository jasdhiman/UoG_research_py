{
 "cells": [
  {
   "cell_type": "code",
   "execution_count": 1,
   "metadata": {},
   "outputs": [],
   "source": [
    "### importing required resources\n",
    "import pandas as pd\n",
    "import numpy as np\n",
    "from sympy import S, symbols, printing\n",
    "from matplotlib import pyplot as plt\n",
    "import datetime\n",
    "import seaborn as sns"
   ]
  },
  {
   "cell_type": "code",
   "execution_count": 7,
   "metadata": {},
   "outputs": [],
   "source": [
    "### specifying file location (dont forget to change forward slash to backward)\n",
    "file = \"//north.cfs.uoguelph.ca/soe-other-home$/dhimanj/Desktop/LONDES/londes_site_data/new_londes_data/received_from_Baljeet_Narayan/raw_tile_surf.xlsx\""
   ]
  },
  {
   "cell_type": "code",
   "execution_count": 8,
   "metadata": {},
   "outputs": [],
   "source": [
    "### reading the file into dataframe\n",
    "londes = pd.read_excel(file)"
   ]
  },
  {
   "cell_type": "code",
   "execution_count": 60,
   "metadata": {},
   "outputs": [
    {
     "data": {
      "text/html": [
       "<div>\n",
       "<style scoped>\n",
       "    .dataframe tbody tr th:only-of-type {\n",
       "        vertical-align: middle;\n",
       "    }\n",
       "\n",
       "    .dataframe tbody tr th {\n",
       "        vertical-align: top;\n",
       "    }\n",
       "\n",
       "    .dataframe thead th {\n",
       "        text-align: right;\n",
       "    }\n",
       "</style>\n",
       "<table border=\"1\" class=\"dataframe\">\n",
       "  <thead>\n",
       "    <tr style=\"text-align: right;\">\n",
       "      <th></th>\n",
       "      <th>Date</th>\n",
       "      <th>Temp (oC)</th>\n",
       "      <th>Rain (mm)</th>\n",
       "      <th>Tile flow (L/s)</th>\n",
       "      <th>Surface flow (L/s)</th>\n",
       "    </tr>\n",
       "  </thead>\n",
       "  <tbody>\n",
       "    <tr>\n",
       "      <th>0</th>\n",
       "      <td>2011-10-03 16:00:00</td>\n",
       "      <td>11.783</td>\n",
       "      <td>0.0</td>\n",
       "      <td>0.0</td>\n",
       "      <td>0.0</td>\n",
       "    </tr>\n",
       "    <tr>\n",
       "      <th>1</th>\n",
       "      <td>2011-10-03 16:15:00</td>\n",
       "      <td>11.565</td>\n",
       "      <td>0.0</td>\n",
       "      <td>0.0</td>\n",
       "      <td>0.0</td>\n",
       "    </tr>\n",
       "    <tr>\n",
       "      <th>2</th>\n",
       "      <td>2011-10-03 16:30:00</td>\n",
       "      <td>11.662</td>\n",
       "      <td>0.0</td>\n",
       "      <td>0.0</td>\n",
       "      <td>0.0</td>\n",
       "    </tr>\n",
       "    <tr>\n",
       "      <th>3</th>\n",
       "      <td>2011-10-03 16:45:00</td>\n",
       "      <td>11.467</td>\n",
       "      <td>0.0</td>\n",
       "      <td>0.0</td>\n",
       "      <td>0.0</td>\n",
       "    </tr>\n",
       "    <tr>\n",
       "      <th>4</th>\n",
       "      <td>2011-10-03 17:00:00</td>\n",
       "      <td>12.050</td>\n",
       "      <td>0.0</td>\n",
       "      <td>0.0</td>\n",
       "      <td>0.0</td>\n",
       "    </tr>\n",
       "    <tr>\n",
       "      <th>5</th>\n",
       "      <td>2011-10-03 17:15:00</td>\n",
       "      <td>12.195</td>\n",
       "      <td>0.0</td>\n",
       "      <td>0.0</td>\n",
       "      <td>0.0</td>\n",
       "    </tr>\n",
       "    <tr>\n",
       "      <th>6</th>\n",
       "      <td>2011-10-03 17:30:00</td>\n",
       "      <td>11.832</td>\n",
       "      <td>0.0</td>\n",
       "      <td>0.0</td>\n",
       "      <td>0.0</td>\n",
       "    </tr>\n",
       "    <tr>\n",
       "      <th>7</th>\n",
       "      <td>2011-10-03 17:45:00</td>\n",
       "      <td>11.856</td>\n",
       "      <td>0.0</td>\n",
       "      <td>0.0</td>\n",
       "      <td>0.0</td>\n",
       "    </tr>\n",
       "    <tr>\n",
       "      <th>8</th>\n",
       "      <td>2011-10-03 18:00:00</td>\n",
       "      <td>12.001</td>\n",
       "      <td>0.0</td>\n",
       "      <td>0.0</td>\n",
       "      <td>0.0</td>\n",
       "    </tr>\n",
       "    <tr>\n",
       "      <th>9</th>\n",
       "      <td>2011-10-03 18:15:00</td>\n",
       "      <td>11.783</td>\n",
       "      <td>0.0</td>\n",
       "      <td>0.0</td>\n",
       "      <td>0.0</td>\n",
       "    </tr>\n",
       "  </tbody>\n",
       "</table>\n",
       "</div>"
      ],
      "text/plain": [
       "                 Date  Temp (oC)  Rain (mm)  Tile flow (L/s)  \\\n",
       "0 2011-10-03 16:00:00     11.783        0.0              0.0   \n",
       "1 2011-10-03 16:15:00     11.565        0.0              0.0   \n",
       "2 2011-10-03 16:30:00     11.662        0.0              0.0   \n",
       "3 2011-10-03 16:45:00     11.467        0.0              0.0   \n",
       "4 2011-10-03 17:00:00     12.050        0.0              0.0   \n",
       "5 2011-10-03 17:15:00     12.195        0.0              0.0   \n",
       "6 2011-10-03 17:30:00     11.832        0.0              0.0   \n",
       "7 2011-10-03 17:45:00     11.856        0.0              0.0   \n",
       "8 2011-10-03 18:00:00     12.001        0.0              0.0   \n",
       "9 2011-10-03 18:15:00     11.783        0.0              0.0   \n",
       "\n",
       "   Surface flow (L/s)  \n",
       "0                 0.0  \n",
       "1                 0.0  \n",
       "2                 0.0  \n",
       "3                 0.0  \n",
       "4                 0.0  \n",
       "5                 0.0  \n",
       "6                 0.0  \n",
       "7                 0.0  \n",
       "8                 0.0  \n",
       "9                 0.0  "
      ]
     },
     "execution_count": 60,
     "metadata": {},
     "output_type": "execute_result"
    }
   ],
   "source": [
    "# looking at first 10 rows\n",
    "londes.head(10)"
   ]
  },
  {
   "cell_type": "code",
   "execution_count": 53,
   "metadata": {},
   "outputs": [
    {
     "name": "stdout",
     "output_type": "stream",
     "text": [
      "Date\n",
      "Temp (oC)\n",
      "Rain (mm)\n",
      "Tile flow (L/s)\n",
      "Surface flow (L/s)\n"
     ]
    }
   ],
   "source": [
    "# getting column names\n",
    "for col in londes.columns:\n",
    "    print(col)"
   ]
  },
  {
   "cell_type": "code",
   "execution_count": 20,
   "metadata": {},
   "outputs": [],
   "source": [
    "# deleting unwanted columns (counted from 0)\n",
    "londes = londes.drop(londes.columns[[1, 2, 3, 6, 8, 10, 11, 12, 13, 14]], axis=1)"
   ]
  },
  {
   "cell_type": "code",
   "execution_count": 54,
   "metadata": {},
   "outputs": [
    {
     "data": {
      "text/html": [
       "<div>\n",
       "<style scoped>\n",
       "    .dataframe tbody tr th:only-of-type {\n",
       "        vertical-align: middle;\n",
       "    }\n",
       "\n",
       "    .dataframe tbody tr th {\n",
       "        vertical-align: top;\n",
       "    }\n",
       "\n",
       "    .dataframe thead th {\n",
       "        text-align: right;\n",
       "    }\n",
       "</style>\n",
       "<table border=\"1\" class=\"dataframe\">\n",
       "  <thead>\n",
       "    <tr style=\"text-align: right;\">\n",
       "      <th></th>\n",
       "      <th>Date</th>\n",
       "      <th>Temp (oC)</th>\n",
       "      <th>Rain (mm)</th>\n",
       "      <th>Tile flow (L/s)</th>\n",
       "      <th>Surface flow (L/s)</th>\n",
       "    </tr>\n",
       "  </thead>\n",
       "  <tbody>\n",
       "    <tr>\n",
       "      <th>0</th>\n",
       "      <td>2011-10-03 16:00:00</td>\n",
       "      <td>11.783</td>\n",
       "      <td>0.0</td>\n",
       "      <td>0.0</td>\n",
       "      <td>0.0</td>\n",
       "    </tr>\n",
       "    <tr>\n",
       "      <th>1</th>\n",
       "      <td>2011-10-03 16:15:00</td>\n",
       "      <td>11.565</td>\n",
       "      <td>0.0</td>\n",
       "      <td>0.0</td>\n",
       "      <td>0.0</td>\n",
       "    </tr>\n",
       "    <tr>\n",
       "      <th>2</th>\n",
       "      <td>2011-10-03 16:30:00</td>\n",
       "      <td>11.662</td>\n",
       "      <td>0.0</td>\n",
       "      <td>0.0</td>\n",
       "      <td>0.0</td>\n",
       "    </tr>\n",
       "    <tr>\n",
       "      <th>3</th>\n",
       "      <td>2011-10-03 16:45:00</td>\n",
       "      <td>11.467</td>\n",
       "      <td>0.0</td>\n",
       "      <td>0.0</td>\n",
       "      <td>0.0</td>\n",
       "    </tr>\n",
       "    <tr>\n",
       "      <th>4</th>\n",
       "      <td>2011-10-03 17:00:00</td>\n",
       "      <td>12.050</td>\n",
       "      <td>0.0</td>\n",
       "      <td>0.0</td>\n",
       "      <td>0.0</td>\n",
       "    </tr>\n",
       "  </tbody>\n",
       "</table>\n",
       "</div>"
      ],
      "text/plain": [
       "                 Date  Temp (oC)  Rain (mm)  Tile flow (L/s)  \\\n",
       "0 2011-10-03 16:00:00     11.783        0.0              0.0   \n",
       "1 2011-10-03 16:15:00     11.565        0.0              0.0   \n",
       "2 2011-10-03 16:30:00     11.662        0.0              0.0   \n",
       "3 2011-10-03 16:45:00     11.467        0.0              0.0   \n",
       "4 2011-10-03 17:00:00     12.050        0.0              0.0   \n",
       "\n",
       "   Surface flow (L/s)  \n",
       "0                 0.0  \n",
       "1                 0.0  \n",
       "2                 0.0  \n",
       "3                 0.0  \n",
       "4                 0.0  "
      ]
     },
     "execution_count": 54,
     "metadata": {},
     "output_type": "execute_result"
    }
   ],
   "source": [
    "londes.head()"
   ]
  },
  {
   "cell_type": "code",
   "execution_count": 61,
   "metadata": {},
   "outputs": [
    {
     "data": {
      "text/plain": [
       "Date                  datetime64[ns]\n",
       "Temp (oC)                    float64\n",
       "Rain (mm)                    float64\n",
       "Tile flow (L/s)              float64\n",
       "Surface flow (L/s)           float64\n",
       "dtype: object"
      ]
     },
     "execution_count": 61,
     "metadata": {},
     "output_type": "execute_result"
    }
   ],
   "source": [
    "# checking format of all variables\n",
    "londes.dtypes"
   ]
  },
  {
   "cell_type": "code",
   "execution_count": 68,
   "metadata": {},
   "outputs": [],
   "source": [
    "# dividing every column into separate df\n",
    "londestemp = londes[['Date', 'Temp (oC)']]\n",
    "londesrain = londes[['Date', 'Rain (mm)']]\n",
    "londestile = londes[['Date', 'Tile flow (L/s)']]\n",
    "londessurf = londes[['Date', 'Surface flow (L/s)']]"
   ]
  },
  {
   "cell_type": "code",
   "execution_count": 69,
   "metadata": {},
   "outputs": [
    {
     "name": "stderr",
     "output_type": "stream",
     "text": [
      "<ipython-input-69-4bbf6a744d69>:2: SettingWithCopyWarning: \n",
      "A value is trying to be set on a copy of a slice from a DataFrame\n",
      "\n",
      "See the caveats in the documentation: https://pandas.pydata.org/pandas-docs/stable/user_guide/indexing.html#returning-a-view-versus-a-copy\n",
      "  londestemp.dropna(axis = 0, how = 'any', inplace=True)\n",
      "<ipython-input-69-4bbf6a744d69>:3: SettingWithCopyWarning: \n",
      "A value is trying to be set on a copy of a slice from a DataFrame\n",
      "\n",
      "See the caveats in the documentation: https://pandas.pydata.org/pandas-docs/stable/user_guide/indexing.html#returning-a-view-versus-a-copy\n",
      "  londesrain.dropna(axis = 0, how = 'any', inplace=True)\n",
      "<ipython-input-69-4bbf6a744d69>:4: SettingWithCopyWarning: \n",
      "A value is trying to be set on a copy of a slice from a DataFrame\n",
      "\n",
      "See the caveats in the documentation: https://pandas.pydata.org/pandas-docs/stable/user_guide/indexing.html#returning-a-view-versus-a-copy\n",
      "  londestile.dropna(axis = 0, how = 'any', inplace=True)\n",
      "<ipython-input-69-4bbf6a744d69>:5: SettingWithCopyWarning: \n",
      "A value is trying to be set on a copy of a slice from a DataFrame\n",
      "\n",
      "See the caveats in the documentation: https://pandas.pydata.org/pandas-docs/stable/user_guide/indexing.html#returning-a-view-versus-a-copy\n",
      "  londessurf.dropna(axis = 0, how = 'any', inplace=True)\n"
     ]
    }
   ],
   "source": [
    "### dropping all rows with missing values and rewriting the dataframe\n",
    "londestemp.dropna(axis = 0, how = 'any', inplace=True) \n",
    "londesrain.dropna(axis = 0, how = 'any', inplace=True) \n",
    "londestile.dropna(axis = 0, how = 'any', inplace=True) \n",
    "londessurf.dropna(axis = 0, how = 'any', inplace=True) \n",
    "#axis=0 means rows are dropped, 1 means columns;\n",
    "# how=any means rows where any column value is na is dropped, all would mean drop only rows where all columns are na;\n",
    "# inplace=True means that the dataframe is rewritten"
   ]
  },
  {
   "cell_type": "code",
   "execution_count": 79,
   "metadata": {},
   "outputs": [],
   "source": [
    "### finding daily averages\n",
    "\n",
    "### setting date as index in the new data set\n",
    "londestemp.set_index('Date')\n",
    "\n",
    "### resampling data so that we have daily averages, max and min of the temperatures\n",
    "daily_mean = londestemp.resample('D', on='Date').mean()\n",
    "daily_max = londestemp.resample('D', on='Date').max()\n",
    "daily_min = londestemp.resample('D', on='Date').min()\n"
   ]
  },
  {
   "cell_type": "code",
   "execution_count": 80,
   "metadata": {},
   "outputs": [],
   "source": [
    "# changing names of the columns\n",
    "daily_mean.rename(columns={'Temp (oC)':'t_avg'}, inplace=True)\n",
    "daily_max.rename(columns={'Temp (oC)':'t_max'}, inplace=True)\n",
    "daily_min.rename(columns={'Temp (oC)':'t_min'}, inplace=True)"
   ]
  },
  {
   "cell_type": "code",
   "execution_count": 81,
   "metadata": {},
   "outputs": [
    {
     "data": {
      "text/html": [
       "<div>\n",
       "<style scoped>\n",
       "    .dataframe tbody tr th:only-of-type {\n",
       "        vertical-align: middle;\n",
       "    }\n",
       "\n",
       "    .dataframe tbody tr th {\n",
       "        vertical-align: top;\n",
       "    }\n",
       "\n",
       "    .dataframe thead th {\n",
       "        text-align: right;\n",
       "    }\n",
       "</style>\n",
       "<table border=\"1\" class=\"dataframe\">\n",
       "  <thead>\n",
       "    <tr style=\"text-align: right;\">\n",
       "      <th></th>\n",
       "      <th>Date</th>\n",
       "      <th>t_min</th>\n",
       "    </tr>\n",
       "    <tr>\n",
       "      <th>Date</th>\n",
       "      <th></th>\n",
       "      <th></th>\n",
       "    </tr>\n",
       "  </thead>\n",
       "  <tbody>\n",
       "    <tr>\n",
       "      <th>2011-10-03</th>\n",
       "      <td>2011-10-03 16:00:00</td>\n",
       "      <td>9.534</td>\n",
       "    </tr>\n",
       "    <tr>\n",
       "      <th>2011-10-04</th>\n",
       "      <td>2011-10-04 00:00:00</td>\n",
       "      <td>6.687</td>\n",
       "    </tr>\n",
       "    <tr>\n",
       "      <th>2011-10-05</th>\n",
       "      <td>2011-10-05 00:00:00</td>\n",
       "      <td>5.668</td>\n",
       "    </tr>\n",
       "    <tr>\n",
       "      <th>2011-10-06</th>\n",
       "      <td>2011-10-06 00:00:00</td>\n",
       "      <td>6.712</td>\n",
       "    </tr>\n",
       "    <tr>\n",
       "      <th>2011-10-07</th>\n",
       "      <td>2011-10-07 00:00:00</td>\n",
       "      <td>7.795</td>\n",
       "    </tr>\n",
       "  </tbody>\n",
       "</table>\n",
       "</div>"
      ],
      "text/plain": [
       "                          Date  t_min\n",
       "Date                                 \n",
       "2011-10-03 2011-10-03 16:00:00  9.534\n",
       "2011-10-04 2011-10-04 00:00:00  6.687\n",
       "2011-10-05 2011-10-05 00:00:00  5.668\n",
       "2011-10-06 2011-10-06 00:00:00  6.712\n",
       "2011-10-07 2011-10-07 00:00:00  7.795"
      ]
     },
     "execution_count": 81,
     "metadata": {},
     "output_type": "execute_result"
    }
   ],
   "source": [
    "# checking if the code worked\n",
    "daily_min.head()"
   ]
  },
  {
   "cell_type": "code",
   "execution_count": 82,
   "metadata": {},
   "outputs": [],
   "source": [
    "# combining temp datasets\n",
    "londestemp_daily = pd.concat([daily_mean, daily_max, daily_min], axis=1)"
   ]
  },
  {
   "cell_type": "code",
   "execution_count": 83,
   "metadata": {},
   "outputs": [
    {
     "data": {
      "text/html": [
       "<div>\n",
       "<style scoped>\n",
       "    .dataframe tbody tr th:only-of-type {\n",
       "        vertical-align: middle;\n",
       "    }\n",
       "\n",
       "    .dataframe tbody tr th {\n",
       "        vertical-align: top;\n",
       "    }\n",
       "\n",
       "    .dataframe thead th {\n",
       "        text-align: right;\n",
       "    }\n",
       "</style>\n",
       "<table border=\"1\" class=\"dataframe\">\n",
       "  <thead>\n",
       "    <tr style=\"text-align: right;\">\n",
       "      <th></th>\n",
       "      <th>t_avg</th>\n",
       "      <th>Date</th>\n",
       "      <th>t_max</th>\n",
       "      <th>Date</th>\n",
       "      <th>t_min</th>\n",
       "    </tr>\n",
       "    <tr>\n",
       "      <th>Date</th>\n",
       "      <th></th>\n",
       "      <th></th>\n",
       "      <th></th>\n",
       "      <th></th>\n",
       "      <th></th>\n",
       "    </tr>\n",
       "  </thead>\n",
       "  <tbody>\n",
       "    <tr>\n",
       "      <th>2011-10-03</th>\n",
       "      <td>11.068875</td>\n",
       "      <td>2011-10-03 23:45:00</td>\n",
       "      <td>12.195</td>\n",
       "      <td>2011-10-03 16:00:00</td>\n",
       "      <td>9.534</td>\n",
       "    </tr>\n",
       "    <tr>\n",
       "      <th>2011-10-04</th>\n",
       "      <td>12.507812</td>\n",
       "      <td>2011-10-04 23:45:00</td>\n",
       "      <td>19.389</td>\n",
       "      <td>2011-10-04 00:00:00</td>\n",
       "      <td>6.687</td>\n",
       "    </tr>\n",
       "    <tr>\n",
       "      <th>2011-10-05</th>\n",
       "      <td>13.469906</td>\n",
       "      <td>2011-10-05 23:45:00</td>\n",
       "      <td>21.963</td>\n",
       "      <td>2011-10-05 00:00:00</td>\n",
       "      <td>5.668</td>\n",
       "    </tr>\n",
       "    <tr>\n",
       "      <th>2011-10-06</th>\n",
       "      <td>13.698354</td>\n",
       "      <td>2011-10-06 23:45:00</td>\n",
       "      <td>21.413</td>\n",
       "      <td>2011-10-06 00:00:00</td>\n",
       "      <td>6.712</td>\n",
       "    </tr>\n",
       "    <tr>\n",
       "      <th>2011-10-07</th>\n",
       "      <td>16.033823</td>\n",
       "      <td>2011-10-07 23:45:00</td>\n",
       "      <td>24.339</td>\n",
       "      <td>2011-10-07 00:00:00</td>\n",
       "      <td>7.795</td>\n",
       "    </tr>\n",
       "  </tbody>\n",
       "</table>\n",
       "</div>"
      ],
      "text/plain": [
       "                t_avg                Date   t_max                Date  t_min\n",
       "Date                                                                        \n",
       "2011-10-03  11.068875 2011-10-03 23:45:00  12.195 2011-10-03 16:00:00  9.534\n",
       "2011-10-04  12.507812 2011-10-04 23:45:00  19.389 2011-10-04 00:00:00  6.687\n",
       "2011-10-05  13.469906 2011-10-05 23:45:00  21.963 2011-10-05 00:00:00  5.668\n",
       "2011-10-06  13.698354 2011-10-06 23:45:00  21.413 2011-10-06 00:00:00  6.712\n",
       "2011-10-07  16.033823 2011-10-07 23:45:00  24.339 2011-10-07 00:00:00  7.795"
      ]
     },
     "execution_count": 83,
     "metadata": {},
     "output_type": "execute_result"
    }
   ],
   "source": [
    "# checking if the merge was succesful\n",
    "londestemp_daily.head()"
   ]
  },
  {
   "cell_type": "code",
   "execution_count": 85,
   "metadata": {},
   "outputs": [],
   "source": [
    "# deleting unnecessary columns\n",
    "londestemp_daily.drop(londestemp_daily.columns[[1, 3]], axis=1, inplace=True)"
   ]
  },
  {
   "cell_type": "code",
   "execution_count": 86,
   "metadata": {
    "scrolled": true
   },
   "outputs": [
    {
     "data": {
      "text/html": [
       "<div>\n",
       "<style scoped>\n",
       "    .dataframe tbody tr th:only-of-type {\n",
       "        vertical-align: middle;\n",
       "    }\n",
       "\n",
       "    .dataframe tbody tr th {\n",
       "        vertical-align: top;\n",
       "    }\n",
       "\n",
       "    .dataframe thead th {\n",
       "        text-align: right;\n",
       "    }\n",
       "</style>\n",
       "<table border=\"1\" class=\"dataframe\">\n",
       "  <thead>\n",
       "    <tr style=\"text-align: right;\">\n",
       "      <th></th>\n",
       "      <th>t_avg</th>\n",
       "      <th>t_max</th>\n",
       "      <th>t_min</th>\n",
       "    </tr>\n",
       "    <tr>\n",
       "      <th>Date</th>\n",
       "      <th></th>\n",
       "      <th></th>\n",
       "      <th></th>\n",
       "    </tr>\n",
       "  </thead>\n",
       "  <tbody>\n",
       "    <tr>\n",
       "      <th>2011-10-03</th>\n",
       "      <td>11.068875</td>\n",
       "      <td>12.195</td>\n",
       "      <td>9.534</td>\n",
       "    </tr>\n",
       "    <tr>\n",
       "      <th>2011-10-04</th>\n",
       "      <td>12.507812</td>\n",
       "      <td>19.389</td>\n",
       "      <td>6.687</td>\n",
       "    </tr>\n",
       "    <tr>\n",
       "      <th>2011-10-05</th>\n",
       "      <td>13.469906</td>\n",
       "      <td>21.963</td>\n",
       "      <td>5.668</td>\n",
       "    </tr>\n",
       "    <tr>\n",
       "      <th>2011-10-06</th>\n",
       "      <td>13.698354</td>\n",
       "      <td>21.413</td>\n",
       "      <td>6.712</td>\n",
       "    </tr>\n",
       "    <tr>\n",
       "      <th>2011-10-07</th>\n",
       "      <td>16.033823</td>\n",
       "      <td>24.339</td>\n",
       "      <td>7.795</td>\n",
       "    </tr>\n",
       "  </tbody>\n",
       "</table>\n",
       "</div>"
      ],
      "text/plain": [
       "                t_avg   t_max  t_min\n",
       "Date                                \n",
       "2011-10-03  11.068875  12.195  9.534\n",
       "2011-10-04  12.507812  19.389  6.687\n",
       "2011-10-05  13.469906  21.963  5.668\n",
       "2011-10-06  13.698354  21.413  6.712\n",
       "2011-10-07  16.033823  24.339  7.795"
      ]
     },
     "execution_count": 86,
     "metadata": {},
     "output_type": "execute_result"
    }
   ],
   "source": [
    "#checking\n",
    "londestemp_daily.head()"
   ]
  },
  {
   "cell_type": "code",
   "execution_count": 87,
   "metadata": {},
   "outputs": [],
   "source": [
    "# exporting as excel\n",
    "londestemp_daily.to_excel('//north.cfs.uoguelph.ca/soe-other-home$/dhimanj/Desktop/LONDES/londes_site_data/new_londes_data/received_from_Baljeet_Narayan/clean_londes_daily_temp.xlsx')"
   ]
  },
  {
   "cell_type": "code",
   "execution_count": 88,
   "metadata": {},
   "outputs": [
    {
     "data": {
      "text/html": [
       "<div>\n",
       "<style scoped>\n",
       "    .dataframe tbody tr th:only-of-type {\n",
       "        vertical-align: middle;\n",
       "    }\n",
       "\n",
       "    .dataframe tbody tr th {\n",
       "        vertical-align: top;\n",
       "    }\n",
       "\n",
       "    .dataframe thead th {\n",
       "        text-align: right;\n",
       "    }\n",
       "</style>\n",
       "<table border=\"1\" class=\"dataframe\">\n",
       "  <thead>\n",
       "    <tr style=\"text-align: right;\">\n",
       "      <th></th>\n",
       "      <th>Date</th>\n",
       "      <th>Rain (mm)</th>\n",
       "    </tr>\n",
       "  </thead>\n",
       "  <tbody>\n",
       "    <tr>\n",
       "      <th>0</th>\n",
       "      <td>2011-10-03 16:00:00</td>\n",
       "      <td>0.0</td>\n",
       "    </tr>\n",
       "    <tr>\n",
       "      <th>1</th>\n",
       "      <td>2011-10-03 16:15:00</td>\n",
       "      <td>0.0</td>\n",
       "    </tr>\n",
       "    <tr>\n",
       "      <th>2</th>\n",
       "      <td>2011-10-03 16:30:00</td>\n",
       "      <td>0.0</td>\n",
       "    </tr>\n",
       "    <tr>\n",
       "      <th>3</th>\n",
       "      <td>2011-10-03 16:45:00</td>\n",
       "      <td>0.0</td>\n",
       "    </tr>\n",
       "    <tr>\n",
       "      <th>4</th>\n",
       "      <td>2011-10-03 17:00:00</td>\n",
       "      <td>0.0</td>\n",
       "    </tr>\n",
       "  </tbody>\n",
       "</table>\n",
       "</div>"
      ],
      "text/plain": [
       "                 Date  Rain (mm)\n",
       "0 2011-10-03 16:00:00        0.0\n",
       "1 2011-10-03 16:15:00        0.0\n",
       "2 2011-10-03 16:30:00        0.0\n",
       "3 2011-10-03 16:45:00        0.0\n",
       "4 2011-10-03 17:00:00        0.0"
      ]
     },
     "execution_count": 88,
     "metadata": {},
     "output_type": "execute_result"
    }
   ],
   "source": [
    "# Now working with Rain data\n",
    "londesrain.head()"
   ]
  },
  {
   "cell_type": "code",
   "execution_count": 89,
   "metadata": {},
   "outputs": [],
   "source": [
    "### finding daily averages\n",
    "\n",
    "### setting date as index in the new data set\n",
    "londesrain.set_index('Date')\n",
    "\n",
    "### resampling data so that we have daily ppt\n",
    "daily_ppt = londesrain.resample('D', on='Date').sum()"
   ]
  },
  {
   "cell_type": "code",
   "execution_count": 91,
   "metadata": {},
   "outputs": [],
   "source": [
    "daily_ppt.rename(columns={'Rain (mm)':'ppt_mm'}, inplace=True)"
   ]
  },
  {
   "cell_type": "code",
   "execution_count": 92,
   "metadata": {
    "scrolled": true
   },
   "outputs": [
    {
     "data": {
      "text/html": [
       "<div>\n",
       "<style scoped>\n",
       "    .dataframe tbody tr th:only-of-type {\n",
       "        vertical-align: middle;\n",
       "    }\n",
       "\n",
       "    .dataframe tbody tr th {\n",
       "        vertical-align: top;\n",
       "    }\n",
       "\n",
       "    .dataframe thead th {\n",
       "        text-align: right;\n",
       "    }\n",
       "</style>\n",
       "<table border=\"1\" class=\"dataframe\">\n",
       "  <thead>\n",
       "    <tr style=\"text-align: right;\">\n",
       "      <th></th>\n",
       "      <th>ppt_mm</th>\n",
       "    </tr>\n",
       "    <tr>\n",
       "      <th>Date</th>\n",
       "      <th></th>\n",
       "    </tr>\n",
       "  </thead>\n",
       "  <tbody>\n",
       "    <tr>\n",
       "      <th>2011-10-03</th>\n",
       "      <td>0.0</td>\n",
       "    </tr>\n",
       "    <tr>\n",
       "      <th>2011-10-04</th>\n",
       "      <td>0.0</td>\n",
       "    </tr>\n",
       "    <tr>\n",
       "      <th>2011-10-05</th>\n",
       "      <td>0.0</td>\n",
       "    </tr>\n",
       "    <tr>\n",
       "      <th>2011-10-06</th>\n",
       "      <td>0.0</td>\n",
       "    </tr>\n",
       "    <tr>\n",
       "      <th>2011-10-07</th>\n",
       "      <td>0.0</td>\n",
       "    </tr>\n",
       "  </tbody>\n",
       "</table>\n",
       "</div>"
      ],
      "text/plain": [
       "            ppt_mm\n",
       "Date              \n",
       "2011-10-03     0.0\n",
       "2011-10-04     0.0\n",
       "2011-10-05     0.0\n",
       "2011-10-06     0.0\n",
       "2011-10-07     0.0"
      ]
     },
     "execution_count": 92,
     "metadata": {},
     "output_type": "execute_result"
    }
   ],
   "source": [
    "# checking\n",
    "daily_ppt.head()"
   ]
  },
  {
   "cell_type": "code",
   "execution_count": 93,
   "metadata": {},
   "outputs": [],
   "source": [
    "# exporting as excel\n",
    "daily_ppt.to_excel('//north.cfs.uoguelph.ca/soe-other-home$/dhimanj/Desktop/LONDES/londes_site_data/new_londes_data/received_from_Baljeet_Narayan/clean_londes_daily_ppt.xlsx')"
   ]
  },
  {
   "cell_type": "code",
   "execution_count": 94,
   "metadata": {},
   "outputs": [],
   "source": [
    "### finding monthly averages\n",
    "### resampling data so that we have monthly ppt\n",
    "monthly_ppt = londesrain.resample('M', on='Date').sum()"
   ]
  },
  {
   "cell_type": "code",
   "execution_count": 95,
   "metadata": {},
   "outputs": [
    {
     "data": {
      "text/html": [
       "<div>\n",
       "<style scoped>\n",
       "    .dataframe tbody tr th:only-of-type {\n",
       "        vertical-align: middle;\n",
       "    }\n",
       "\n",
       "    .dataframe tbody tr th {\n",
       "        vertical-align: top;\n",
       "    }\n",
       "\n",
       "    .dataframe thead th {\n",
       "        text-align: right;\n",
       "    }\n",
       "</style>\n",
       "<table border=\"1\" class=\"dataframe\">\n",
       "  <thead>\n",
       "    <tr style=\"text-align: right;\">\n",
       "      <th></th>\n",
       "      <th>Rain (mm)</th>\n",
       "    </tr>\n",
       "    <tr>\n",
       "      <th>Date</th>\n",
       "      <th></th>\n",
       "    </tr>\n",
       "  </thead>\n",
       "  <tbody>\n",
       "    <tr>\n",
       "      <th>2011-10-31</th>\n",
       "      <td>112.2</td>\n",
       "    </tr>\n",
       "    <tr>\n",
       "      <th>2011-11-30</th>\n",
       "      <td>79.7</td>\n",
       "    </tr>\n",
       "    <tr>\n",
       "      <th>2011-12-31</th>\n",
       "      <td>58.4</td>\n",
       "    </tr>\n",
       "    <tr>\n",
       "      <th>2012-01-31</th>\n",
       "      <td>37.0</td>\n",
       "    </tr>\n",
       "    <tr>\n",
       "      <th>2012-02-29</th>\n",
       "      <td>13.8</td>\n",
       "    </tr>\n",
       "  </tbody>\n",
       "</table>\n",
       "</div>"
      ],
      "text/plain": [
       "            Rain (mm)\n",
       "Date                 \n",
       "2011-10-31      112.2\n",
       "2011-11-30       79.7\n",
       "2011-12-31       58.4\n",
       "2012-01-31       37.0\n",
       "2012-02-29       13.8"
      ]
     },
     "execution_count": 95,
     "metadata": {},
     "output_type": "execute_result"
    }
   ],
   "source": [
    "#checking\n",
    "monthly_ppt.head()"
   ]
  },
  {
   "cell_type": "code",
   "execution_count": 96,
   "metadata": {},
   "outputs": [],
   "source": [
    "# renaming columns\n",
    "monthly_ppt.rename(columns={'Rain (mm)':'ppt_mm'}, inplace=True)"
   ]
  },
  {
   "cell_type": "code",
   "execution_count": 97,
   "metadata": {},
   "outputs": [],
   "source": [
    "# exporting as excel\n",
    "monthly_ppt.to_excel('//north.cfs.uoguelph.ca/soe-other-home$/dhimanj/Desktop/LONDES/londes_site_data/new_londes_data/received_from_Baljeet_Narayan/clean_londes_monthly_ppt.xlsx')"
   ]
  },
  {
   "cell_type": "code",
   "execution_count": 98,
   "metadata": {},
   "outputs": [],
   "source": [
    "### finding monthly averages\n",
    "### resampling data so that we have monthly ppt\n",
    "yearly_ppt = londesrain.resample('Y', on='Date').sum()"
   ]
  },
  {
   "cell_type": "code",
   "execution_count": 99,
   "metadata": {},
   "outputs": [],
   "source": [
    "# renaming columns\n",
    "yearly_ppt.rename(columns={'Rain (mm)':'ppt_mm'}, inplace=True)"
   ]
  },
  {
   "cell_type": "code",
   "execution_count": 100,
   "metadata": {},
   "outputs": [
    {
     "data": {
      "text/html": [
       "<div>\n",
       "<style scoped>\n",
       "    .dataframe tbody tr th:only-of-type {\n",
       "        vertical-align: middle;\n",
       "    }\n",
       "\n",
       "    .dataframe tbody tr th {\n",
       "        vertical-align: top;\n",
       "    }\n",
       "\n",
       "    .dataframe thead th {\n",
       "        text-align: right;\n",
       "    }\n",
       "</style>\n",
       "<table border=\"1\" class=\"dataframe\">\n",
       "  <thead>\n",
       "    <tr style=\"text-align: right;\">\n",
       "      <th></th>\n",
       "      <th>ppt_mm</th>\n",
       "    </tr>\n",
       "    <tr>\n",
       "      <th>Date</th>\n",
       "      <th></th>\n",
       "    </tr>\n",
       "  </thead>\n",
       "  <tbody>\n",
       "    <tr>\n",
       "      <th>2011-12-31</th>\n",
       "      <td>250.300</td>\n",
       "    </tr>\n",
       "    <tr>\n",
       "      <th>2012-12-31</th>\n",
       "      <td>660.600</td>\n",
       "    </tr>\n",
       "    <tr>\n",
       "      <th>2013-12-31</th>\n",
       "      <td>1107.400</td>\n",
       "    </tr>\n",
       "    <tr>\n",
       "      <th>2014-12-31</th>\n",
       "      <td>767.842</td>\n",
       "    </tr>\n",
       "    <tr>\n",
       "      <th>2015-12-31</th>\n",
       "      <td>436.382</td>\n",
       "    </tr>\n",
       "  </tbody>\n",
       "</table>\n",
       "</div>"
      ],
      "text/plain": [
       "              ppt_mm\n",
       "Date                \n",
       "2011-12-31   250.300\n",
       "2012-12-31   660.600\n",
       "2013-12-31  1107.400\n",
       "2014-12-31   767.842\n",
       "2015-12-31   436.382"
      ]
     },
     "execution_count": 100,
     "metadata": {},
     "output_type": "execute_result"
    }
   ],
   "source": [
    "#checking\n",
    "yearly_ppt.head()"
   ]
  },
  {
   "cell_type": "code",
   "execution_count": 101,
   "metadata": {},
   "outputs": [],
   "source": [
    "# exporting as excel\n",
    "yearly_ppt.to_excel('//north.cfs.uoguelph.ca/soe-other-home$/dhimanj/Desktop/LONDES/londes_site_data/new_londes_data/received_from_Baljeet_Narayan/clean_londes_yearly_ppt.xlsx')"
   ]
  },
  {
   "cell_type": "code",
   "execution_count": null,
   "metadata": {},
   "outputs": [],
   "source": [
    "# tile flow is in L/s for every 15 min, and we want in mm\n",
    "# so we multiply tile flow column data by (15 x 60 s) to get in L and then divide by 1000 to get ans in m3 (volume)\n",
    "# then we divide by the area which is 83344 m2 to get ans in m (depth), and then multiply by 1000 to get ans in mm"
   ]
  },
  {
   "cell_type": "code",
   "execution_count": 103,
   "metadata": {
    "scrolled": true
   },
   "outputs": [
    {
     "name": "stderr",
     "output_type": "stream",
     "text": [
      "C:\\Users\\dhimanj\\Anaconda3\\lib\\site-packages\\pandas\\core\\frame.py:4296: SettingWithCopyWarning: \n",
      "A value is trying to be set on a copy of a slice from a DataFrame\n",
      "\n",
      "See the caveats in the documentation: https://pandas.pydata.org/pandas-docs/stable/user_guide/indexing.html#returning-a-view-versus-a-copy\n",
      "  return super().rename(\n"
     ]
    }
   ],
   "source": [
    "# first we rename the column\n",
    "londestile.rename(columns={'Tile flow (L/s)':'tile'}, inplace=True)"
   ]
  },
  {
   "cell_type": "code",
   "execution_count": 105,
   "metadata": {},
   "outputs": [
    {
     "name": "stderr",
     "output_type": "stream",
     "text": [
      "<ipython-input-105-11e95690de51>:3: SettingWithCopyWarning: \n",
      "A value is trying to be set on a copy of a slice from a DataFrame.\n",
      "Try using .loc[row_indexer,col_indexer] = value instead\n",
      "\n",
      "See the caveats in the documentation: https://pandas.pydata.org/pandas-docs/stable/user_guide/indexing.html#returning-a-view-versus-a-copy\n",
      "  londestile['tile']=x*londestile['tile']\n"
     ]
    }
   ],
   "source": [
    "# now the math\n",
    "x=(((15*60)/1000)/83344)*1000\n",
    "londestile['tile']=x*londestile['tile']"
   ]
  },
  {
   "cell_type": "code",
   "execution_count": 108,
   "metadata": {},
   "outputs": [],
   "source": [
    "# now doing the same thing for tiles\n",
    "\n",
    "londestile.set_index('Date')\n",
    "### resampling data\n",
    "daily_tile = londestile.resample('D', on='Date').sum()\n",
    "monthly_tile = londestile.resample('M', on='Date').sum()\n",
    "yearly_tile = londestile.resample('Y', on='Date').sum()\n",
    "\n",
    "# writing to excel\n",
    "# exporting as excel\n",
    "daily_tile.to_excel('//north.cfs.uoguelph.ca/soe-other-home$/dhimanj/Desktop/LONDES/londes_site_data/new_londes_data/received_from_Baljeet_Narayan/clean_londes_daily_tile.xlsx')\n",
    "monthly_tile.to_excel('//north.cfs.uoguelph.ca/soe-other-home$/dhimanj/Desktop/LONDES/londes_site_data/new_londes_data/received_from_Baljeet_Narayan/clean_londes_monthly_tile.xlsx')\n",
    "yearly_tile.to_excel('//north.cfs.uoguelph.ca/soe-other-home$/dhimanj/Desktop/LONDES/londes_site_data/new_londes_data/received_from_Baljeet_Narayan/clean_londes_yearly_tile.xlsx')"
   ]
  },
  {
   "cell_type": "code",
   "execution_count": 111,
   "metadata": {},
   "outputs": [
    {
     "name": "stderr",
     "output_type": "stream",
     "text": [
      "<ipython-input-111-be148856fde4>:3: SettingWithCopyWarning: \n",
      "A value is trying to be set on a copy of a slice from a DataFrame.\n",
      "Try using .loc[row_indexer,col_indexer] = value instead\n",
      "\n",
      "See the caveats in the documentation: https://pandas.pydata.org/pandas-docs/stable/user_guide/indexing.html#returning-a-view-versus-a-copy\n",
      "  londessurf['surf_mm']=x*londessurf['surf_mm']\n"
     ]
    }
   ],
   "source": [
    "# now doing the same thing for surfQ\n",
    "# londessurf.rename(columns={'Surface flow (L/s)':'surf_mm'}, inplace=True)\n",
    "londessurf['surf_mm']=x*londessurf['surf_mm']\n",
    "\n",
    "londessurf.set_index('Date')\n",
    "\n",
    "### resampling data\n",
    "daily_surf = londessurf.resample('D', on='Date').sum()\n",
    "monthly_surf = londessurf.resample('M', on='Date').sum()\n",
    "yearly_surf = londessurf.resample('Y', on='Date').sum()\n",
    "\n",
    "# writing to excel\n",
    "# exporting as excel\n",
    "daily_surf.to_excel('//north.cfs.uoguelph.ca/soe-other-home$/dhimanj/Desktop/LONDES/londes_site_data/new_londes_data/received_from_Baljeet_Narayan/clean_londes_daily_surf.xlsx')\n",
    "monthly_surf.to_excel('//north.cfs.uoguelph.ca/soe-other-home$/dhimanj/Desktop/LONDES/londes_site_data/new_londes_data/received_from_Baljeet_Narayan/clean_londes_monthly_surf.xlsx')\n",
    "yearly_surf.to_excel('//north.cfs.uoguelph.ca/soe-other-home$/dhimanj/Desktop/LONDES/londes_site_data/new_londes_data/received_from_Baljeet_Narayan/clean_londes_yearly_surf.xlsx')"
   ]
  },
  {
   "cell_type": "code",
   "execution_count": 150,
   "metadata": {},
   "outputs": [
    {
     "data": {
      "text/plain": [
       "Text(0, 0.5, 'Annual observed precipitation (mm)')"
      ]
     },
     "execution_count": 150,
     "metadata": {},
     "output_type": "execute_result"
    },
    {
     "data": {
      "image/png": "[encoded data removed]",
      "text/plain": [
       "<Figure size 432x288 with 1 Axes>"
      ]
     },
     "metadata": {
      "needs_background": "light"
     },
     "output_type": "display_data"
    }
   ],
   "source": [
    "# plotting yearly rain, tile and surf data for comparison\n",
    "# first we convert index back to default (not Date)\n",
    "#yearly_ppt = yearly_ppt.reset_index()\n",
    "g = sns.barplot(data=yearly_ppt, x=\"Date\", y=\"ppt_mm\")\n",
    "g.set_xticks(range(len(yearly_ppt)))\n",
    "g.set_xticklabels(['2011', '2012', '2013', '2014', '2015', '2016', '2017'])\n",
    "plt.title('Londesborough site')\n",
    "plt.xlabel('Year')\n",
    "plt.ylabel('Annual observed precipitation (mm)')"
   ]
  },
  {
   "cell_type": "code",
   "execution_count": 149,
   "metadata": {},
   "outputs": [
    {
     "data": {
      "text/plain": [
       "Text(0, 0.5, 'Annual observed tile flow (mm)')"
      ]
     },
     "execution_count": 149,
     "metadata": {},
     "output_type": "execute_result"
    },
    {
     "data": {
      "image/png": "[encoded data removed]",
      "text/plain": [
       "<Figure size 432x288 with 1 Axes>"
      ]
     },
     "metadata": {
      "needs_background": "light"
     },
     "output_type": "display_data"
    }
   ],
   "source": [
    "# plotting yearly rain, tile and surf data for comparison\n",
    "# first we convert index back to default (not Date)\n",
    "yearly_tile = yearly_tile.reset_index()\n",
    "g = sns.barplot(data=yearly_tile, x=\"Date\", y=\"tile\")\n",
    "g.set_xticks(range(len(yearly_tile)))\n",
    "g.set_xticklabels(['2011', '2012', '2013', '2014', '2015', '2016', '2017'])\n",
    "plt.title('Londesborough site')\n",
    "plt.xlabel('Year')\n",
    "plt.ylabel('Annual observed tile flow (mm)')"
   ]
  },
  {
   "cell_type": "code",
   "execution_count": 148,
   "metadata": {},
   "outputs": [
    {
     "data": {
      "text/plain": [
       "Text(0, 0.5, 'Annual observed surface runoff (mm)')"
      ]
     },
     "execution_count": 148,
     "metadata": {},
     "output_type": "execute_result"
    },
    {
     "data": {
      "image/png": "[encoded data removed]",
      "text/plain": [
       "<Figure size 432x288 with 1 Axes>"
      ]
     },
     "metadata": {
      "needs_background": "light"
     },
     "output_type": "display_data"
    }
   ],
   "source": [
    "# plotting yearly rain, tile and surf data for comparison\n",
    "# first we convert index back to default (not Date)\n",
    "yearly_surf = yearly_surf.reset_index()\n",
    "g = sns.barplot(data=yearly_surf, x=\"Date\", y=\"surf_mm\")\n",
    "g.set_xticks(range(len(yearly_surf)))\n",
    "g.set_xticklabels(['2011', '2012', '2013', '2014', '2015', '2016', '2017'])\n",
    "plt.title('Londesborough site')\n",
    "plt.xlabel('Year')\n",
    "plt.ylabel('Annual observed surface runoff (mm)')"
   ]
  },
  {
   "cell_type": "code",
   "execution_count": 138,
   "metadata": {},
   "outputs": [],
   "source": [
    "# data collected from Goderich ON weather station - ECCC\n",
    "goderich_ppt = {'Year':['2012', '2013', '2014', '2015', '2016', '2017'], 'ppt_mm':[600.3, 944.5, 812.2, 663.5, 895, 981.6]}"
   ]
  },
  {
   "cell_type": "code",
   "execution_count": 142,
   "metadata": {},
   "outputs": [
    {
     "data": {
      "text/plain": [
       "Text(0, 0.5, 'annual precipitation (mm)')"
      ]
     },
     "execution_count": 142,
     "metadata": {},
     "output_type": "execute_result"
    },
    {
     "data": {
      "image/png": "[encoded data removed]",
      "text/plain": [
       "<Figure size 432x288 with 1 Axes>"
      ]
     },
     "metadata": {
      "needs_background": "light"
     },
     "output_type": "display_data"
    }
   ],
   "source": [
    "# creating graph\n",
    "sns.barplot(data=goderich_ppt, x=\"Year\", y=\"ppt_mm\").set_title('Precipiation data for Goderich, ON')\n",
    "plt.xlabel('Year')\n",
    "plt.ylabel('annual precipitation (mm)')\n"
   ]
  }
 ],
 "metadata": {
  "kernelspec": {
   "display_name": "Python 3",
   "language": "python",
   "name": "python3"
  },
  "language_info": {
   "codemirror_mode": {
    "name": "ipython",
    "version": 3
   },
   "file_extension": ".py",
   "mimetype": "text/x-python",
   "name": "python",
   "nbconvert_exporter": "python",
   "pygments_lexer": "ipython3",
   "version": "3.8.5"
  }
 },
 "nbformat": 4,
 "nbformat_minor": 4
}
